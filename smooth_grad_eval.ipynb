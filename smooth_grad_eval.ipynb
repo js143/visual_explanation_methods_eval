{
  "nbformat": 4,
  "nbformat_minor": 0,
  "metadata": {
    "colab": {
      "name": "smooth_grad_eval.ipynb",
      "provenance": [],
      "collapsed_sections": []
    },
    "kernelspec": {
      "name": "python3",
      "display_name": "Python 3"
    },
    "language_info": {
      "name": "python"
    }
  },
  "cells": [
    {
      "cell_type": "markdown",
      "source": [
        "This notebook evaluates Smooth Grad with UCF-50 frame using the tf-keras-vis implementation. \n",
        "\n",
        "This notebook is based on the example presented in tf-keras-vis (Kubota, Y. (2021). tf-keras-vis (Version 0.8.1) [Computer software]. https://keisen.github.io/tf-keras-vis-docs/)"
      ],
      "metadata": {
        "id": "ELgTHxx7hCD2"
      }
    },
    {
      "cell_type": "code",
      "execution_count": null,
      "metadata": {
        "colab": {
          "base_uri": "https://localhost:8080/"
        },
        "id": "b9iwfviyzptF",
        "outputId": "9def0f21-c1db-4e24-d98d-57d5c4a4cfc7"
      },
      "outputs": [
        {
          "output_type": "stream",
          "name": "stdout",
          "text": [
            "Mounted at /content/gdrive\n"
          ]
        }
      ],
      "source": [
        "from google.colab import drive\n",
        "drive.mount('/content/gdrive')"
      ]
    },
    {
      "cell_type": "code",
      "source": [
        "import numpy as np\n",
        "import matplotlib.pyplot as plt\n",
        "import tensorflow as tf\n",
        "from tensorflow import keras\n",
        "import os\n",
        "import cv2"
      ],
      "metadata": {
        "id": "2XJfWgGs0QVn"
      },
      "execution_count": null,
      "outputs": []
    },
    {
      "cell_type": "markdown",
      "source": [
        "Load frames and masks"
      ],
      "metadata": {
        "id": "Ev9wgKrIi8Qo"
      }
    },
    {
      "cell_type": "code",
      "source": [
        "!cp -R /content/gdrive/MyDrive/masked_images_backup/masks /\n",
        "!cp -R /content/gdrive/MyDrive/video_frames/ /"
      ],
      "metadata": {
        "id": "P6vwyIo41dI0"
      },
      "execution_count": null,
      "outputs": []
    },
    {
      "cell_type": "code",
      "source": [
        "!pip install tf-keras-vis"
      ],
      "metadata": {
        "colab": {
          "base_uri": "https://localhost:8080/"
        },
        "id": "GUd1z03K0inw",
        "outputId": "2d826819-217f-4647-e559-eb7f70351dc4"
      },
      "execution_count": null,
      "outputs": [
        {
          "output_type": "stream",
          "name": "stdout",
          "text": [
            "Collecting tf-keras-vis\n",
            "  Downloading tf_keras_vis-0.8.1-py3-none-any.whl (53 kB)\n",
            "\u001b[?25l\r\u001b[K     |██████▏                         | 10 kB 20.0 MB/s eta 0:00:01\r\u001b[K     |████████████▎                   | 20 kB 13.6 MB/s eta 0:00:01\r\u001b[K     |██████████████████▍             | 30 kB 9.8 MB/s eta 0:00:01\r\u001b[K     |████████████████████████▋       | 40 kB 9.0 MB/s eta 0:00:01\r\u001b[K     |██████████████████████████████▊ | 51 kB 5.4 MB/s eta 0:00:01\r\u001b[K     |████████████████████████████████| 53 kB 1.3 MB/s \n",
            "\u001b[?25hCollecting deprecated\n",
            "  Downloading Deprecated-1.2.13-py2.py3-none-any.whl (9.6 kB)\n",
            "Requirement already satisfied: scipy in /usr/local/lib/python3.7/dist-packages (from tf-keras-vis) (1.4.1)\n",
            "Requirement already satisfied: pillow in /usr/local/lib/python3.7/dist-packages (from tf-keras-vis) (7.1.2)\n",
            "Requirement already satisfied: imageio in /usr/local/lib/python3.7/dist-packages (from tf-keras-vis) (2.4.1)\n",
            "Requirement already satisfied: packaging in /usr/local/lib/python3.7/dist-packages (from tf-keras-vis) (21.3)\n",
            "Requirement already satisfied: importlib-metadata in /usr/local/lib/python3.7/dist-packages (from tf-keras-vis) (4.11.3)\n",
            "Requirement already satisfied: wrapt<2,>=1.10 in /usr/local/lib/python3.7/dist-packages (from deprecated->tf-keras-vis) (1.14.0)\n",
            "Requirement already satisfied: numpy in /usr/local/lib/python3.7/dist-packages (from imageio->tf-keras-vis) (1.21.5)\n",
            "Requirement already satisfied: zipp>=0.5 in /usr/local/lib/python3.7/dist-packages (from importlib-metadata->tf-keras-vis) (3.8.0)\n",
            "Requirement already satisfied: typing-extensions>=3.6.4 in /usr/local/lib/python3.7/dist-packages (from importlib-metadata->tf-keras-vis) (4.1.1)\n",
            "Requirement already satisfied: pyparsing!=3.0.5,>=2.0.2 in /usr/local/lib/python3.7/dist-packages (from packaging->tf-keras-vis) (3.0.8)\n",
            "Installing collected packages: deprecated, tf-keras-vis\n",
            "Successfully installed deprecated-1.2.13 tf-keras-vis-0.8.1\n"
          ]
        }
      ]
    },
    {
      "cell_type": "code",
      "source": [
        "import tf_keras_vis"
      ],
      "metadata": {
        "id": "GZTj3wKm0omG"
      },
      "execution_count": null,
      "outputs": []
    },
    {
      "cell_type": "code",
      "source": [
        "model = keras.models.load_model('/content/gdrive/MyDrive/resnet50_v2_transferLearned_model')"
      ],
      "metadata": {
        "id": "phqjNKbN0wE2"
      },
      "execution_count": null,
      "outputs": []
    },
    {
      "cell_type": "code",
      "source": [
        "from keras.preprocessing.image import load_img\n",
        "from keras.applications.resnet_v2 import preprocess_input"
      ],
      "metadata": {
        "id": "kgHBVbAI1PZN"
      },
      "execution_count": null,
      "outputs": []
    },
    {
      "cell_type": "code",
      "source": [
        "from PIL import Image"
      ],
      "metadata": {
        "id": "OsgIHf17mnhA"
      },
      "execution_count": null,
      "outputs": []
    },
    {
      "cell_type": "code",
      "source": [
        "classes_list = ['PizzaTossing', 'PlayingGuitar', 'PushUps', 'SalsaSpin']"
      ],
      "metadata": {
        "id": "1VIQcLnYqSPT"
      },
      "execution_count": null,
      "outputs": []
    },
    {
      "cell_type": "code",
      "source": [
        "def prepare_data(class_name, dir_name, check_preds=False):\n",
        "\n",
        "  images =[]\n",
        "  file_names =[]\n",
        "  masks = []\n",
        "\n",
        "  masks_root = '/masks'\n",
        "  images_root ='/video_frames'\n",
        "  \n",
        "  \n",
        "  for mask_name in os.listdir(os.path.join(masks_root, class_name, dir_name, 'masks')):\n",
        "    image_name = mask_name.replace('png','jpg')\n",
        "    image_path = os.path.join(images_root,class_name,dir_name,image_name)\n",
        "    mask_path = os.path.join(masks_root, class_name, dir_name, 'masks', mask_name)\n",
        "\n",
        "    im = load_img(image_path,target_size=(100,100))\n",
        "    im = np.array(im)\n",
        "    x = np.asarray([im])\n",
        "    x = preprocess_input(x)\n",
        "    pred = model.predict(x)\n",
        "\n",
        "    if not os.path.exists('/smoothGrad'):\n",
        "      os.mkdir('/smoothGrad')\n",
        "    if not os.path.exists(os.path.join('/smoothGrad',class_name)):\n",
        "      os.mkdir(os.path.join('/smoothGrad',class_name))\n",
        "    if not os.path.exists(os.path.join('/smoothGrad', class_name, dir_name)):\n",
        "      os.mkdir(os.path.join('/smoothGrad', class_name, dir_name))\n",
        "    \n",
        "\n",
        "    if classes_list[np.argmax(pred[0])] == class_name or check_preds:\n",
        "      file_names.append(image_path)\n",
        "\n",
        "\n",
        "\n",
        "      msk = np.array(Image.open(mask_path).resize(im.shape[1::-1], Image.BILINEAR))\n",
        "      msk = msk/255\n",
        "\n",
        "      images.append(im)\n",
        "      masks.append(msk)\n",
        "    \n",
        "\n",
        "  images = np.asarray(images)\n",
        "\n",
        "  # Preparing input data\n",
        "  X = preprocess_input(images)\n",
        "\n",
        "  \n",
        "\n",
        "  return images, masks, file_names, X"
      ],
      "metadata": {
        "id": "GqRdruhO211Q"
      },
      "execution_count": null,
      "outputs": []
    },
    {
      "cell_type": "code",
      "source": [
        "from tf_keras_vis.utils.model_modifiers import ReplaceToLinear\n",
        "from tf_keras_vis.utils.scores import CategoricalScore\n",
        "from keras import backend as K\n",
        "from tf_keras_vis.saliency import Saliency\n",
        "import time"
      ],
      "metadata": {
        "id": "Z2SlTdtj7JX7"
      },
      "execution_count": null,
      "outputs": []
    },
    {
      "cell_type": "code",
      "source": [
        "def create_saliency_maps(class_name, dir_name, check_preds=False):\n",
        "  images, masks, file_names, X = prepare_data(class_name, dir_name,check_preds=check_preds)\n",
        "  replace2linear = ReplaceToLinear()\n",
        "  # 0 = PizzaTossing, 1 = PlayingGuiar, 2 = PushUps, 3 = SalsaSpin.\n",
        "  for index, name in enumerate(classes_list):\n",
        "    if name==class_name:\n",
        "      score = CategoricalScore([index])\n",
        "  start = time.time()\n",
        "  saliency = Saliency(model,\n",
        "                    model_modifier=replace2linear,\n",
        "                    clone=True)\n",
        "  \n",
        "  # Generate saliency map\n",
        "  saliency_map = saliency(score, X, smooth_samples=20, # The number of calculating gradients iterations.\n",
        "                        smooth_noise=0.20)\n",
        "  duration = time.time()-start\n",
        "\n",
        "  for index, map in enumerate(saliency_map):\n",
        "    path = file_names[index].replace('video_frames','smoothGrad')\n",
        "\n",
        "    # Render\n",
        "    f, ax = plt.subplots(nrows=1, ncols=1, figsize=(4, 4))\n",
        "    ax.set_title(class_name, fontsize=16)\n",
        "    ax.imshow(images[index])\n",
        "    ax.imshow(map, cmap='jet', alpha=0.5)\n",
        "    ax.axis('off')\n",
        "    plt.tight_layout()\n",
        "    plt.savefig(path)\n",
        "    plt.close()\n",
        "    #plt.show()\n",
        "\n",
        "  return saliency_map, images, masks, file_names, duration\n"
      ],
      "metadata": {
        "id": "FWcHfNSopB8g"
      },
      "execution_count": null,
      "outputs": []
    },
    {
      "cell_type": "code",
      "source": [
        "def evaluate_maps(saliency_maps, masks, duration):\n",
        "  duration = duration/ len(saliency_maps)\n",
        "  duration_list = []\n",
        "  duration_list.extend([duration]*len(saliency_maps))\n",
        "\n",
        "  map_weight_list = []\n",
        "  mask_weight_list = []\n",
        "  for index, map in enumerate(saliency_maps):\n",
        "    map_weight = np.sum(map)\n",
        "    dst = map * masks[index]\n",
        "    mask_weight = np.sum(dst)\n",
        "\n",
        "    map_weight_list.append(map_weight)\n",
        "    mask_weight_list.append(mask_weight)\n",
        "\n",
        "  return map_weight_list, mask_weight_list, duration_list\n",
        "\n"
      ],
      "metadata": {
        "id": "DL22ZqVQHuXA"
      },
      "execution_count": null,
      "outputs": []
    },
    {
      "cell_type": "code",
      "source": [
        "pizza = [('PizzaTossing','v_PizzaTossing_g02_c02')]\n",
        "salsa = [('SalsaSpin','v_SalsaSpin_g04_c02'),('SalsaSpin','v_SalsaSpin_g11_c02'),('SalsaSpin','v_SalsaSpin_g18_c04')]\n",
        "guitar = [('PlayingGuitar', 'v_PlayingGuitar_g06_c05'), ('PlayingGuitar', 'v_PlayingGuitar_g11_c02'),('PlayingGuitar','v_PlayingGuitar_g22_c03')]\n",
        "pushups = [('PushUps', 'v_PushUps_g11_c03'), ('PushUps','v_PushUps_g14_c04'),('PushUps','v_PushUps_g18_c02')]\n",
        "\n",
        "all_classes = [pizza, salsa, guitar, pushups]"
      ],
      "metadata": {
        "id": "CmPjVDmgteUF"
      },
      "execution_count": null,
      "outputs": []
    },
    {
      "cell_type": "code",
      "source": [
        "map_weights = []\n",
        "mask_weights = []\n",
        "durations = []\n",
        "all_classes = [pizza, salsa]\n",
        "for c in all_classes:\n",
        "\n",
        "  for name, dir in c:\n",
        "    #print('Evaluating ', name, dir)\n",
        "    heatmap, _, mask, _ , duration = create_saliency_maps(name, dir)\n",
        "    map_w, mask_w, dur = evaluate_maps(heatmap, mask, duration)\n",
        "    map_weights.extend(map_w)\n",
        "    mask_weights.extend(mask_w)\n",
        "    durations.extend(dur)\n",
        "    #print('Done\\n')\n",
        "\n",
        "print('Average mask weight: ',sum(mask_weights)/len(mask_weights))\n",
        "print('Standard deviation: ', np.std(mask_weights))\n",
        "print('Average total weight: ', sum(map_weights)/len(map_weights))\n",
        "print('Standard deviation: ', np.std(map_weights))\n",
        "print('Average computing time: ', sum(durations)/len(durations))\n",
        "print('Standard deviation: ', np.std(durations))\n",
        "\n",
        "print('Mask weight percentage: ',((sum(mask_weights)/len(mask_weights))/(sum(map_weights)/len(mask_weights)))*100,'%\\n')\n",
        "if not os.path.exists('/content/gdrive/MyDrive/ResNet50'):\n",
        "  os.mkdir('/content/gdrive/MyDrive/ResNet50')\n",
        "!cp -R /smoothGrad /content/gdrive/MyDrive/ResNet50/\n",
        "\n",
        "map_weights = []\n",
        "mask_weights = []\n",
        "durations = []\n",
        "all_classes = [pizza]\n",
        "for c in all_classes:\n",
        "\n",
        "  for name, dir in c:\n",
        "    #print('Evaluating ', name, dir)\n",
        "    heatmap, _, mask, _ , duration = create_saliency_maps(name, dir)\n",
        "    map_w, mask_w, dur = evaluate_maps(heatmap, mask, duration)\n",
        "    map_weights.extend(map_w)\n",
        "    mask_weights.extend(mask_w)\n",
        "    durations.extend(dur)\n",
        "    #print('Done\\n')\n",
        "\n",
        "print('Average mask weight: ',sum(mask_weights)/len(mask_weights))\n",
        "print('Standard deviation: ', np.std(mask_weights))\n",
        "print('Average total weight: ', sum(map_weights)/len(map_weights))\n",
        "print('Standard deviation: ', np.std(map_weights))\n",
        "print('Average computing time: ', sum(durations)/len(durations))\n",
        "print('Standard deviation: ', np.std(durations))\n",
        "\n",
        "print('Mask weight percentage: ',((sum(mask_weights)/len(mask_weights))/(sum(map_weights)/len(mask_weights)))*100,'%\\n')\n",
        "\n",
        "map_weights = []\n",
        "mask_weights = []\n",
        "durations = []\n",
        "all_classes = [salsa]\n",
        "for c in all_classes:\n",
        "\n",
        "  for name, dir in c:\n",
        "    #print('Evaluating ', name, dir)\n",
        "    heatmap, _, mask, _ , duration = create_saliency_maps(name, dir)\n",
        "    map_w, mask_w, dur = evaluate_maps(heatmap, mask, duration)\n",
        "    map_weights.extend(map_w)\n",
        "    mask_weights.extend(mask_w)\n",
        "    durations.extend(dur)\n",
        "    #print('Done\\n')\n",
        "\n",
        "print('Average mask weight: ',sum(mask_weights)/len(mask_weights))\n",
        "print('Standard deviation: ', np.std(mask_weights))\n",
        "print('Average total weight: ', sum(map_weights)/len(map_weights))\n",
        "print('Standard deviation: ', np.std(map_weights))\n",
        "print('Average computing time: ', sum(durations)/len(durations))\n",
        "print('Standard deviation: ', np.std(durations))\n",
        "\n",
        "print('Mask weight percentage: ',((sum(mask_weights)/len(mask_weights))/(sum(map_weights)/len(mask_weights)))*100,'%\\n')\n",
        "\n",
        "\n",
        "map_weights = []\n",
        "mask_weights = []\n",
        "durations = []\n",
        "all_classes = [pushups]\n",
        "for c in all_classes:\n",
        "\n",
        "  for name, dir in c:\n",
        "    #print('Evaluating ', name, dir)\n",
        "    heatmap, _, mask, _ , duration = create_saliency_maps(name, dir, check_preds = True)\n",
        "    map_w, mask_w, dur = evaluate_maps(heatmap, mask, duration)\n",
        "    map_weights.extend(map_w)\n",
        "    mask_weights.extend(mask_w)\n",
        "    durations.extend(dur)\n",
        "    #print('Done\\n')\n",
        "\n",
        "print('Average mask weight: ',sum(mask_weights)/len(mask_weights))\n",
        "print('Standard deviation: ', np.std(mask_weights))\n",
        "print('Average total weight: ', sum(map_weights)/len(map_weights))\n",
        "print('Standard deviation: ', np.std(map_weights))\n",
        "print('Average computing time: ', sum(durations)/len(durations))\n",
        "print('Standard deviation: ', np.std(durations))\n",
        "\n",
        "print('Mask weight percentage: ',((sum(mask_weights)/len(mask_weights))/(sum(map_weights)/len(mask_weights)))*100,'%\\n')\n",
        "if not os.path.exists('/content/gdrive/MyDrive/ResNet50/PushUps'):\n",
        "  os.mkdir('/content/gdrive/MyDrive/ResNet50/PushUps')\n",
        "!cp -R /smoothGrad /content/gdrive/MyDrive/ResNet50/PushUps/\n",
        "\n",
        "map_weights = []\n",
        "mask_weights = []\n",
        "durations = []\n",
        "all_classes = [guitar]\n",
        "for c in all_classes:\n",
        "\n",
        "  for name, dir in c:\n",
        "    #print('Evaluating ', name, dir)\n",
        "    heatmap, _, mask, _ , duration = create_saliency_maps(name, dir, check_preds=True)\n",
        "    map_w, mask_w, dur = evaluate_maps(heatmap, mask, duration)\n",
        "    map_weights.extend(map_w)\n",
        "    mask_weights.extend(mask_w)\n",
        "    durations.extend(dur)\n",
        "    #print('Done\\n')\n",
        "\n",
        "print('Average mask weight: ',sum(mask_weights)/len(mask_weights))\n",
        "print('Standard deviation: ', np.std(mask_weights))\n",
        "print('Average total weight: ', sum(map_weights)/len(map_weights))\n",
        "print('Standard deviation: ', np.std(map_weights))\n",
        "print('Average computing time: ', sum(durations)/len(durations))\n",
        "print('Standard deviation: ', np.std(durations))\n",
        "\n",
        "print('Mask weight percentage: ',((sum(mask_weights)/len(mask_weights))/(sum(map_weights)/len(mask_weights)))*100,'%\\n')\n",
        "if not os.path.exists('/content/gdrive/MyDrive/ResNet50/PlayingGuitar'):\n",
        "  os.mkdir('/content/gdrive/MyDrive/ResNet50/PlayingGuitar')\n",
        "!cp -R /smoothGrad /content/gdrive/MyDrive/ResNet50/PlayingGuitar/\n",
        "\n",
        "\n",
        "map_weights = []\n",
        "mask_weights = []\n",
        "durations = []\n",
        "all_classes = [pizza]\n",
        "for c in all_classes:\n",
        "\n",
        "  for name, dir in c:\n",
        "    #print('Evaluating ', name, dir)\n",
        "    heatmap, _, mask, _ , duration = create_saliency_maps(name, dir, check_preds=True)\n",
        "    map_w, mask_w, dur = evaluate_maps(heatmap, mask, duration)\n",
        "    map_weights.extend(map_w)\n",
        "    mask_weights.extend(mask_w)\n",
        "    durations.extend(dur)\n",
        "    #print('Done\\n')\n",
        "\n",
        "print('Average mask weight: ',sum(mask_weights)/len(mask_weights))\n",
        "print('Standard deviation: ', np.std(mask_weights))\n",
        "print('Average total weight: ', sum(map_weights)/len(map_weights))\n",
        "print('Standard deviation: ', np.std(map_weights))\n",
        "print('Average computing time: ', sum(durations)/len(durations))\n",
        "print('Standard deviation: ', np.std(durations))\n",
        "\n",
        "print('Mask weight percentage: ',((sum(mask_weights)/len(mask_weights))/(sum(map_weights)/len(mask_weights)))*100,'%\\n')\n",
        "if not os.path.exists('/content/gdrive/MyDrive/ResNet50/PizzaTossing'):\n",
        "  os.mkdir('/content/gdrive/MyDrive/ResNet50/PizzaTossing')\n",
        "!cp -R /smoothGrad /content/gdrive/MyDrive/ResNet50/PizzaTossing/\n",
        "\n",
        "\n",
        "map_weights = []\n",
        "mask_weights = []\n",
        "durations = []\n",
        "all_classes = [salsa]\n",
        "for c in all_classes:\n",
        "\n",
        "  for name, dir in c:\n",
        "    #print('Evaluating ', name, dir)\n",
        "    heatmap, _, mask, _ , duration = create_saliency_maps(name, dir, check_preds=True)\n",
        "    map_w, mask_w, dur = evaluate_maps(heatmap, mask, duration)\n",
        "    map_weights.extend(map_w)\n",
        "    mask_weights.extend(mask_w)\n",
        "    durations.extend(dur)\n",
        "    #print('Done\\n')\n",
        "\n",
        "print('Average mask weight: ',sum(mask_weights)/len(mask_weights))\n",
        "print('Standard deviation: ', np.std(mask_weights))\n",
        "print('Average total weight: ', sum(map_weights)/len(map_weights))\n",
        "print('Standard deviation: ', np.std(map_weights))\n",
        "print('Average computing time: ', sum(durations)/len(durations))\n",
        "print('Standard deviation: ', np.std(durations))\n",
        "\n",
        "print('Mask weight percentage: ',((sum(mask_weights)/len(mask_weights))/(sum(map_weights)/len(mask_weights)))*100,'%\\n')\n",
        "if not os.path.exists('/content/gdrive/MyDrive/ResNet50/SalsaSpin'):\n",
        "  os.mkdir('/content/gdrive/MyDrive/ResNet50/SalsaSpin')\n",
        "!cp -R /smoothGrad /content/gdrive/MyDrive/ResNet50/SalsaSpin/\n",
        "\n",
        "\n",
        "map_weights = []\n",
        "mask_weights = []\n",
        "durations = []\n",
        "all_classes = [pizza, salsa, guitar, pushups]\n",
        "for c in all_classes:\n",
        "\n",
        "  for name, dir in c:\n",
        "    #print('Evaluating ', name, dir)\n",
        "    heatmap, _, mask, _ , duration = create_saliency_maps(name, dir, check_preds=True)\n",
        "    map_w, mask_w, dur = evaluate_maps(heatmap, mask, duration)\n",
        "    map_weights.extend(map_w)\n",
        "    mask_weights.extend(mask_w)\n",
        "    durations.extend(dur)\n",
        "    #print('Done\\n')\n",
        "\n",
        "print('Average mask weight: ',sum(mask_weights)/len(mask_weights))\n",
        "print('Standard deviation: ', np.std(mask_weights))\n",
        "print('Average total weight: ', sum(map_weights)/len(map_weights))\n",
        "print('Standard deviation: ', np.std(map_weights))\n",
        "print('Average computing time: ', sum(durations)/len(durations))\n",
        "print('Standard deviation: ', np.std(durations))\n",
        "\n",
        "print('Mask weight percentage: ',((sum(mask_weights)/len(mask_weights))/(sum(map_weights)/len(mask_weights)))*100,'%\\n')"
      ],
      "metadata": {
        "colab": {
          "base_uri": "https://localhost:8080/"
        },
        "id": "nBHT3TbFWlCC",
        "outputId": "11e64fc9-81af-48dc-b67b-255da612d223"
      },
      "execution_count": null,
      "outputs": [
        {
          "output_type": "stream",
          "name": "stdout",
          "text": [
            "Average mask weight:  313.8518896879325\n",
            "Standard deviation:  134.41244282411827\n",
            "Average total weight:  2034.8548261854385\n",
            "Standard deviation:  361.3875\n",
            "Average computing time:  4.296345647838379\n",
            "Standard deviation:  0.6044840670726176\n",
            "Mask weight percentage:  15.423797592297174 %\n",
            "\n",
            "Average mask weight:  247.99128619696992\n",
            "Standard deviation:  58.0508717425051\n",
            "Average total weight:  1994.3559050383392\n",
            "Standard deviation:  405.02975\n",
            "Average computing time:  3.92839777469635\n",
            "Standard deviation:  0.0\n",
            "Mask weight percentage:  12.434655498071825 %\n",
            "\n",
            "Average mask weight:  534.399960297847\n",
            "Standard deviation:  103.08786404870156\n",
            "Average total weight:  2208.9517618815103\n",
            "Standard deviation:  347.0848\n",
            "Average computing time:  4.87656056880951\n",
            "Standard deviation:  0.4755354169865391\n",
            "Mask weight percentage:  24.192468550905033 %\n",
            "\n",
            "Average mask weight:  847.7544904512151\n",
            "Standard deviation:  359.5632702333113\n",
            "Average total weight:  2306.7608427159926\n",
            "Standard deviation:  337.48422\n",
            "Average computing time:  3.968263755436828\n",
            "Standard deviation:  0.036242373653048686\n",
            "Mask weight percentage:  36.750861847172004 %\n",
            "\n",
            "Average mask weight:  1313.9610486390661\n",
            "Standard deviation:  527.5543432875087\n",
            "Average total weight:  2376.6536028951573\n",
            "Standard deviation:  395.7172\n",
            "Average computing time:  4.058575809331227\n",
            "Standard deviation:  0.1338077659776707\n",
            "Mask weight percentage:  55.28618251471078 %\n",
            "\n",
            "Average mask weight:  251.0647947705043\n",
            "Standard deviation:  60.413522662672435\n",
            "Average total weight:  2030.0653935185185\n",
            "Standard deviation:  414.67072\n",
            "Average computing time:  4.591172986560395\n",
            "Standard deviation:  0.0\n",
            "Mask weight percentage:  12.367325484789319 %\n",
            "\n",
            "Average mask weight:  475.8354343635676\n",
            "Standard deviation:  154.985639726306\n",
            "Average total weight:  2008.205298790565\n",
            "Standard deviation:  530.6474\n",
            "Average computing time:  4.326760006766039\n",
            "Standard deviation:  0.1992893794461428\n",
            "Mask weight percentage:  23.694561240832197 %\n",
            "\n",
            "Average mask weight:  859.0390353699336\n",
            "Standard deviation:  537.22552867182\n",
            "Average total weight:  2204.925648181273\n",
            "Standard deviation:  444.62265\n",
            "Average computing time:  4.36753987416184\n",
            "Standard deviation:  0.07533886462725899\n",
            "Mask weight percentage:  38.96000012873493 %\n",
            "\n"
          ]
        }
      ]
    }
  ]
}