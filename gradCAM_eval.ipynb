{
  "cells": [
    {
      "cell_type": "markdown",
      "source": [
        "This notebook evaluates Grad-CAM with UCF-50 frame using the tf-keras-vis implementation. \n",
        "\n",
        "This notebook is based on the example presented in tf-keras-vis (Kubota, Y. (2021). tf-keras-vis (Version 0.8.1) [Computer software]. https://keisen.github.io/tf-keras-vis-docs/)"
      ],
      "metadata": {
        "id": "ELgTHxx7hCD2"
      }
    },
    {
      "cell_type": "code",
      "execution_count": null,
      "metadata": {
        "colab": {
          "base_uri": "https://localhost:8080/"
        },
        "id": "b9iwfviyzptF",
        "outputId": "7d03ddcc-1760-4a98-9274-e68e6b6115a0"
      },
      "outputs": [
        {
          "output_type": "stream",
          "name": "stdout",
          "text": [
            "Mounted at /content/gdrive\n"
          ]
        }
      ],
      "source": [
        "from google.colab import drive\n",
        "drive.mount('/content/gdrive')"
      ]
    },
    {
      "cell_type": "code",
      "execution_count": null,
      "metadata": {
        "id": "2XJfWgGs0QVn"
      },
      "outputs": [],
      "source": [
        "import numpy as np\n",
        "import matplotlib.pyplot as plt\n",
        "import tensorflow as tf\n",
        "from tensorflow import keras\n",
        "import os\n",
        "import cv2"
      ]
    },
    {
      "cell_type": "markdown",
      "source": [
        "Load frames and masks"
      ],
      "metadata": {
        "id": "Ev9wgKrIi8Qo"
      }
    },
    {
      "cell_type": "code",
      "execution_count": null,
      "metadata": {
        "id": "P6vwyIo41dI0"
      },
      "outputs": [],
      "source": [
        "!cp -R /content/gdrive/MyDrive/masked_images_backup/masks /\n",
        "!cp -R /content/gdrive/MyDrive/video_frames/ /"
      ]
    },
    {
      "cell_type": "code",
      "execution_count": null,
      "metadata": {
        "colab": {
          "base_uri": "https://localhost:8080/"
        },
        "id": "GUd1z03K0inw",
        "outputId": "c4585df3-293e-4e67-e340-a9dcb48cf13c"
      },
      "outputs": [
        {
          "output_type": "stream",
          "name": "stdout",
          "text": [
            "Collecting tf-keras-vis\n",
            "  Downloading tf_keras_vis-0.8.1-py3-none-any.whl (53 kB)\n",
            "\u001b[?25l\r\u001b[K     |██████▏                         | 10 kB 18.1 MB/s eta 0:00:01\r\u001b[K     |████████████▎                   | 20 kB 21.8 MB/s eta 0:00:01\r\u001b[K     |██████████████████▍             | 30 kB 17.6 MB/s eta 0:00:01\r\u001b[K     |████████████████████████▋       | 40 kB 15.2 MB/s eta 0:00:01\r\u001b[K     |██████████████████████████████▊ | 51 kB 9.0 MB/s eta 0:00:01\r\u001b[K     |████████████████████████████████| 53 kB 1.5 MB/s \n",
            "\u001b[?25hRequirement already satisfied: imageio in /usr/local/lib/python3.7/dist-packages (from tf-keras-vis) (2.4.1)\n",
            "Collecting deprecated\n",
            "  Downloading Deprecated-1.2.13-py2.py3-none-any.whl (9.6 kB)\n",
            "Requirement already satisfied: pillow in /usr/local/lib/python3.7/dist-packages (from tf-keras-vis) (7.1.2)\n",
            "Requirement already satisfied: packaging in /usr/local/lib/python3.7/dist-packages (from tf-keras-vis) (21.3)\n",
            "Requirement already satisfied: importlib-metadata in /usr/local/lib/python3.7/dist-packages (from tf-keras-vis) (4.11.3)\n",
            "Requirement already satisfied: scipy in /usr/local/lib/python3.7/dist-packages (from tf-keras-vis) (1.4.1)\n",
            "Requirement already satisfied: wrapt<2,>=1.10 in /usr/local/lib/python3.7/dist-packages (from deprecated->tf-keras-vis) (1.14.0)\n",
            "Requirement already satisfied: numpy in /usr/local/lib/python3.7/dist-packages (from imageio->tf-keras-vis) (1.21.5)\n",
            "Requirement already satisfied: zipp>=0.5 in /usr/local/lib/python3.7/dist-packages (from importlib-metadata->tf-keras-vis) (3.8.0)\n",
            "Requirement already satisfied: typing-extensions>=3.6.4 in /usr/local/lib/python3.7/dist-packages (from importlib-metadata->tf-keras-vis) (4.1.1)\n",
            "Requirement already satisfied: pyparsing!=3.0.5,>=2.0.2 in /usr/local/lib/python3.7/dist-packages (from packaging->tf-keras-vis) (3.0.8)\n",
            "Installing collected packages: deprecated, tf-keras-vis\n",
            "Successfully installed deprecated-1.2.13 tf-keras-vis-0.8.1\n"
          ]
        }
      ],
      "source": [
        "!pip install tf-keras-vis"
      ]
    },
    {
      "cell_type": "code",
      "execution_count": null,
      "metadata": {
        "id": "GZTj3wKm0omG"
      },
      "outputs": [],
      "source": [
        "import tf_keras_vis"
      ]
    },
    {
      "cell_type": "code",
      "execution_count": null,
      "metadata": {
        "id": "phqjNKbN0wE2"
      },
      "outputs": [],
      "source": [
        "model = keras.models.load_model('/content/gdrive/MyDrive/resnet50_v2_transferLearned_model')"
      ]
    },
    {
      "cell_type": "code",
      "execution_count": null,
      "metadata": {
        "id": "kgHBVbAI1PZN"
      },
      "outputs": [],
      "source": [
        "from keras.preprocessing.image import load_img\n",
        "from keras.applications.resnet_v2 import preprocess_input"
      ]
    },
    {
      "cell_type": "code",
      "execution_count": null,
      "metadata": {
        "id": "OsgIHf17mnhA"
      },
      "outputs": [],
      "source": [
        "from PIL import Image"
      ]
    },
    {
      "cell_type": "code",
      "execution_count": null,
      "metadata": {
        "id": "1VIQcLnYqSPT"
      },
      "outputs": [],
      "source": [
        "classes_list = ['PizzaTossing', 'PlayingGuitar', 'PushUps', 'SalsaSpin']"
      ]
    },
    {
      "cell_type": "code",
      "execution_count": null,
      "metadata": {
        "id": "mo2i5FWgG8Fq"
      },
      "outputs": [],
      "source": [
        "from matplotlib import cm\n",
        "from tf_keras_vis.gradcam import Gradcam"
      ]
    },
    {
      "cell_type": "code",
      "execution_count": null,
      "metadata": {
        "id": "GqRdruhO211Q"
      },
      "outputs": [],
      "source": [
        "def prepare_data(class_name, dir_name, check_preds=False):\n",
        "\n",
        "  images =[]\n",
        "  file_names =[]\n",
        "  masks = []\n",
        "\n",
        "  masks_root = '/masks'\n",
        "  images_root ='/video_frames'\n",
        "  \n",
        "  \n",
        "  for mask_name in os.listdir(os.path.join(masks_root, class_name, dir_name, 'masks')):\n",
        "    image_name = mask_name.replace('png','jpg')\n",
        "    image_path = os.path.join(images_root,class_name,dir_name,image_name)\n",
        "    mask_path = os.path.join(masks_root, class_name, dir_name, 'masks', mask_name)\n",
        "\n",
        "    im = load_img(image_path,target_size=(100,100))\n",
        "    im = np.array(im)\n",
        "    x = np.asarray([im])\n",
        "    x = preprocess_input(x)\n",
        "    pred = model.predict(x)\n",
        "\n",
        "    if not os.path.exists('/gradCAM'):\n",
        "      os.mkdir('/gradCAM')\n",
        "    if not os.path.exists(os.path.join('/gradCAM',class_name)):\n",
        "      os.mkdir(os.path.join('/gradCAM',class_name))\n",
        "    if not os.path.exists(os.path.join('/gradCAM', class_name, dir_name)):\n",
        "      os.mkdir(os.path.join('/gradCAM', class_name, dir_name))\n",
        "    \n",
        "\n",
        "    if classes_list[np.argmax(pred[0])] == class_name or check_preds:\n",
        "\n",
        "      file_names.append(image_path)\n",
        "\n",
        "\n",
        "\n",
        "      msk = np.array(Image.open(mask_path).resize(im.shape[1::-1], Image.BILINEAR))\n",
        "      msk = msk/255\n",
        "\n",
        "      images.append(im)\n",
        "      masks.append(msk)\n",
        "    \n",
        "\n",
        "  images = np.asarray(images)\n",
        "\n",
        "  # Preparing input data\n",
        "  X = preprocess_input(images)\n",
        "  \n",
        "\n",
        "  return images, masks, file_names, X"
      ]
    },
    {
      "cell_type": "code",
      "execution_count": null,
      "metadata": {
        "id": "Z2SlTdtj7JX7"
      },
      "outputs": [],
      "source": [
        "from tf_keras_vis.utils.model_modifiers import ReplaceToLinear\n",
        "from tf_keras_vis.utils.scores import CategoricalScore\n",
        "from keras import backend as K\n",
        "import time"
      ]
    },
    {
      "cell_type": "code",
      "execution_count": null,
      "metadata": {
        "id": "FWcHfNSopB8g"
      },
      "outputs": [],
      "source": [
        "def create_gradCAM(class_name, dir_name, check_preds = False):\n",
        "  images, masks, file_names, X = prepare_data(class_name, dir_name, check_preds=check_preds)\n",
        "  replace2linear = ReplaceToLinear()\n",
        "  # 0 = PizzaTossing, 1 = PlayingGuiar, 2 = PushUps, 3 = SalsaSpin.\n",
        "  for index, name in enumerate(classes_list):\n",
        "    if name==class_name:\n",
        "      score = CategoricalScore([index])\n",
        "  start = time.time()\n",
        "  # Create Gradcam object\n",
        "  gradcam = Gradcam(model,\n",
        "                  model_modifier=replace2linear,\n",
        "                  clone=True)\n",
        "  \n",
        "\n",
        "  # Generate heatmap with GradCAM\n",
        "  cam = gradcam(score,\n",
        "              X,\n",
        "              penultimate_layer=-1)\n",
        "  duration = time.time()-start\n",
        "\n",
        "  for index, map in enumerate(cam):\n",
        "    path = file_names[index].replace('video_frames','gradCAM')\n",
        "\n",
        "    # Render\n",
        "    f, ax = plt.subplots(nrows=1, ncols=1, figsize=(4, 4))\n",
        "    #heatmap = np.uint8(cm.jet(map)[..., :3] * 255)\n",
        "    ax.set_title(class_name, fontsize=16)\n",
        "    ax.imshow(images[index])\n",
        "    ax.imshow(map, cmap='jet', alpha=0.5)\n",
        "    ax.axis('off')\n",
        "    plt.tight_layout()\n",
        "    plt.savefig(path)\n",
        "    #plt.show()\n",
        "    plt.close()\n",
        "\n",
        "  return cam, images, masks, file_names, duration\n"
      ]
    },
    {
      "cell_type": "code",
      "execution_count": null,
      "metadata": {
        "id": "DL22ZqVQHuXA"
      },
      "outputs": [],
      "source": [
        "def evaluate_maps(maps, masks, duration):\n",
        "  duration = duration/ len(maps)\n",
        "  duration_list = []\n",
        "  duration_list.extend([duration]*len(maps))\n",
        "\n",
        "  map_weight_list = []\n",
        "  mask_weight_list = []\n",
        "  for index, map in enumerate(maps):\n",
        "    map_weight = np.sum(map)\n",
        "    dst = map * masks[index]\n",
        "    mask_weight = np.sum(dst)\n",
        "\n",
        "    map_weight_list.append(map_weight)\n",
        "    mask_weight_list.append(mask_weight)\n",
        "\n",
        "  return map_weight_list, mask_weight_list, duration_list\n",
        "\n"
      ]
    },
    {
      "cell_type": "code",
      "execution_count": null,
      "metadata": {
        "id": "CmPjVDmgteUF"
      },
      "outputs": [],
      "source": [
        "pizza = [('PizzaTossing','v_PizzaTossing_g02_c02')]\n",
        "salsa = [('SalsaSpin','v_SalsaSpin_g04_c02'),('SalsaSpin','v_SalsaSpin_g11_c02'),('SalsaSpin','v_SalsaSpin_g18_c04')]\n",
        "guitar = [('PlayingGuitar', 'v_PlayingGuitar_g06_c05'), ('PlayingGuitar', 'v_PlayingGuitar_g11_c02'),('PlayingGuitar','v_PlayingGuitar_g22_c03')]\n",
        "pushups = [('PushUps', 'v_PushUps_g11_c03'), ('PushUps','v_PushUps_g14_c04'),('PushUps','v_PushUps_g18_c02')]\n",
        "\n",
        "#all_classes = [pizza, salsa, guitar, pushups]"
      ]
    },
    {
      "cell_type": "code",
      "execution_count": null,
      "metadata": {
        "colab": {
          "base_uri": "https://localhost:8080/"
        },
        "id": "KmfE2dD8DhO_",
        "outputId": "383c08b1-0eda-41f4-a2b1-9db692947707"
      },
      "outputs": [
        {
          "output_type": "stream",
          "name": "stdout",
          "text": [
            "Average mask weight:  912.8329762267201\n",
            "Standard deviation:  248.1390856640082\n",
            "Average total weight:  4932.054528130426\n",
            "Standard deviation:  700.08466\n",
            "Average computing time:  0.35364146696196636\n",
            "Standard deviation:  0.11587033662536045\n",
            "Mask weight percentage:  18.50816877672973 %\n",
            "\n",
            "Average mask weight:  847.8910201444318\n",
            "Standard deviation:  60.566935693610645\n",
            "Average total weight:  5106.980052806713\n",
            "Standard deviation:  402.7877\n",
            "Average computing time:  0.21502962377336307\n",
            "Standard deviation:  2.7755575615628914e-17\n",
            "Mask weight percentage:  16.60259118651628 %\n",
            "\n",
            "Average mask weight:  1107.6588444735844\n",
            "Standard deviation:  429.7411666587364\n",
            "Average total weight:  4407.2779541015625\n",
            "Standard deviation:  1051.938\n",
            "Average computing time:  0.4918509324391683\n",
            "Standard deviation:  0.1458333801080753\n",
            "Mask weight percentage:  25.132493480307033 %\n",
            "\n",
            "Average mask weight:  1067.983438933211\n",
            "Standard deviation:  708.2267860588169\n",
            "Average total weight:  3660.112311469184\n",
            "Standard deviation:  1575.0101\n",
            "Average computing time:  0.21813800444010845\n",
            "Standard deviation:  0.005597172429967067\n",
            "Mask weight percentage:  29.178979988854987 %\n",
            "\n",
            "Average mask weight:  992.0584609218291\n",
            "Standard deviation:  661.8305084491001\n",
            "Average total weight:  2545.4665817345044\n",
            "Standard deviation:  1096.2617\n",
            "Average computing time:  0.21227441439971\n",
            "Standard deviation:  0.0025839638495215866\n",
            "Mask weight percentage:  38.97354096260935 %\n",
            "\n",
            "Average mask weight:  847.8910201444318\n",
            "Standard deviation:  60.566935693610645\n",
            "Average total weight:  5106.980052806713\n",
            "Standard deviation:  402.7877\n",
            "Average computing time:  0.22374348728745067\n",
            "Standard deviation:  5.551115123125783e-17\n",
            "Mask weight percentage:  16.60259118651628 %\n",
            "\n",
            "Average mask weight:  933.4364905245113\n",
            "Standard deviation:  435.13508022640605\n",
            "Average total weight:  3939.5335641192573\n",
            "Standard deviation:  1130.3206\n",
            "Average computing time:  0.24412211597475192\n",
            "Standard deviation:  0.02662676749144894\n",
            "Mask weight percentage:  23.69408650369489 %\n",
            "\n",
            "Average mask weight:  986.0638258669292\n",
            "Standard deviation:  598.287180745694\n",
            "Average total weight:  3480.057395648012\n",
            "Standard deviation:  1466.454\n",
            "Average computing time:  0.2222670045229468\n",
            "Standard deviation:  0.014930697456400507\n",
            "Mask weight percentage:  28.33470008569548 %\n",
            "\n"
          ]
        }
      ],
      "source": [
        "map_weights = []\n",
        "mask_weights = []\n",
        "durations = []\n",
        "all_classes = [pizza, salsa]\n",
        "for c in all_classes:\n",
        "\n",
        "  for name, dir in c:\n",
        "    #print('Evaluating ', name, dir)\n",
        "    heatmap, _, mask, _ , duration = create_gradCAM(name, dir)\n",
        "    map_w, mask_w, dur = evaluate_maps(heatmap, mask, duration)\n",
        "    map_weights.extend(map_w)\n",
        "    mask_weights.extend(mask_w)\n",
        "    durations.extend(dur)\n",
        "    #print('Done\\n')\n",
        "\n",
        "print('Average mask weight: ',sum(mask_weights)/len(mask_weights))\n",
        "print('Standard deviation: ', np.std(mask_weights))\n",
        "print('Average total weight: ', sum(map_weights)/len(map_weights))\n",
        "print('Standard deviation: ', np.std(map_weights))\n",
        "print('Average computing time: ', sum(durations)/len(durations))\n",
        "print('Standard deviation: ', np.std(durations))\n",
        "\n",
        "print('Mask weight percentage: ',((sum(mask_weights)/len(mask_weights))/(sum(map_weights)/len(mask_weights)))*100,'%\\n')\n",
        "if not os.path.exists('/content/gdrive/MyDrive/ResNet50'):\n",
        "  os.mkdir('/content/gdrive/MyDrive/ResNet50')\n",
        "!cp -R /gradCAM /content/gdrive/MyDrive/ResNet50/\n",
        "\n",
        "map_weights = []\n",
        "mask_weights = []\n",
        "durations = []\n",
        "all_classes = [pizza]\n",
        "for c in all_classes:\n",
        "\n",
        "  for name, dir in c:\n",
        "    #print('Evaluating ', name, dir)\n",
        "    heatmap, _, mask, _ , duration = create_gradCAM(name, dir)\n",
        "    map_w, mask_w, dur = evaluate_maps(heatmap, mask, duration)\n",
        "    map_weights.extend(map_w)\n",
        "    mask_weights.extend(mask_w)\n",
        "    durations.extend(dur)\n",
        "    #print('Done\\n')\n",
        "\n",
        "print('Average mask weight: ',sum(mask_weights)/len(mask_weights))\n",
        "print('Standard deviation: ', np.std(mask_weights))\n",
        "print('Average total weight: ', sum(map_weights)/len(map_weights))\n",
        "print('Standard deviation: ', np.std(map_weights))\n",
        "print('Average computing time: ', sum(durations)/len(durations))\n",
        "print('Standard deviation: ', np.std(durations))\n",
        "\n",
        "print('Mask weight percentage: ',((sum(mask_weights)/len(mask_weights))/(sum(map_weights)/len(mask_weights)))*100,'%\\n')\n",
        "\n",
        "map_weights = []\n",
        "mask_weights = []\n",
        "durations = []\n",
        "all_classes = [salsa]\n",
        "for c in all_classes:\n",
        "\n",
        "  for name, dir in c:\n",
        "    #print('Evaluating ', name, dir)\n",
        "    heatmap, _, mask, _ , duration = create_gradCAM(name, dir)\n",
        "    map_w, mask_w, dur = evaluate_maps(heatmap, mask, duration)\n",
        "    map_weights.extend(map_w)\n",
        "    mask_weights.extend(mask_w)\n",
        "    durations.extend(dur)\n",
        "    #print('Done\\n')\n",
        "\n",
        "print('Average mask weight: ',sum(mask_weights)/len(mask_weights))\n",
        "print('Standard deviation: ', np.std(mask_weights))\n",
        "print('Average total weight: ', sum(map_weights)/len(map_weights))\n",
        "print('Standard deviation: ', np.std(map_weights))\n",
        "print('Average computing time: ', sum(durations)/len(durations))\n",
        "print('Standard deviation: ', np.std(durations))\n",
        "\n",
        "print('Mask weight percentage: ',((sum(mask_weights)/len(mask_weights))/(sum(map_weights)/len(mask_weights)))*100,'%\\n')\n",
        "\n",
        "\n",
        "map_weights = []\n",
        "mask_weights = []\n",
        "durations = []\n",
        "all_classes = [pushups]\n",
        "for c in all_classes:\n",
        "\n",
        "  for name, dir in c:\n",
        "    #print('Evaluating ', name, dir)\n",
        "    heatmap, _, mask, _ , duration = create_gradCAM(name, dir, check_preds = True)\n",
        "    map_w, mask_w, dur = evaluate_maps(heatmap, mask, duration)\n",
        "    map_weights.extend(map_w)\n",
        "    mask_weights.extend(mask_w)\n",
        "    durations.extend(dur)\n",
        "    #print('Done\\n')\n",
        "\n",
        "print('Average mask weight: ',sum(mask_weights)/len(mask_weights))\n",
        "print('Standard deviation: ', np.std(mask_weights))\n",
        "print('Average total weight: ', sum(map_weights)/len(map_weights))\n",
        "print('Standard deviation: ', np.std(map_weights))\n",
        "print('Average computing time: ', sum(durations)/len(durations))\n",
        "print('Standard deviation: ', np.std(durations))\n",
        "\n",
        "print('Mask weight percentage: ',((sum(mask_weights)/len(mask_weights))/(sum(map_weights)/len(mask_weights)))*100,'%\\n')\n",
        "if not os.path.exists('/content/gdrive/MyDrive/ResNet50/PushUps'):\n",
        "  os.mkdir('/content/gdrive/MyDrive/ResNet50/PushUps')\n",
        "!cp -R /gradCAM /content/gdrive/MyDrive/ResNet50/PushUps/\n",
        "\n",
        "map_weights = []\n",
        "mask_weights = []\n",
        "durations = []\n",
        "all_classes = [guitar]\n",
        "for c in all_classes:\n",
        "\n",
        "  for name, dir in c:\n",
        "    #print('Evaluating ', name, dir)\n",
        "    heatmap, _, mask, _ , duration = create_gradCAM(name, dir, check_preds=True)\n",
        "    map_w, mask_w, dur = evaluate_maps(heatmap, mask, duration)\n",
        "    map_weights.extend(map_w)\n",
        "    mask_weights.extend(mask_w)\n",
        "    durations.extend(dur)\n",
        "    #print('Done\\n')\n",
        "\n",
        "print('Average mask weight: ',sum(mask_weights)/len(mask_weights))\n",
        "print('Standard deviation: ', np.std(mask_weights))\n",
        "print('Average total weight: ', sum(map_weights)/len(map_weights))\n",
        "print('Standard deviation: ', np.std(map_weights))\n",
        "print('Average computing time: ', sum(durations)/len(durations))\n",
        "print('Standard deviation: ', np.std(durations))\n",
        "\n",
        "print('Mask weight percentage: ',((sum(mask_weights)/len(mask_weights))/(sum(map_weights)/len(mask_weights)))*100,'%\\n')\n",
        "if not os.path.exists('/content/gdrive/MyDrive/ResNet50/PlayingGuitar'):\n",
        "  os.mkdir('/content/gdrive/MyDrive/ResNet50/PlayingGuitar')\n",
        "!cp -R /gradCAM /content/gdrive/MyDrive/ResNet50/PlayingGuitar/\n",
        "\n",
        "\n",
        "map_weights = []\n",
        "mask_weights = []\n",
        "durations = []\n",
        "all_classes = [pizza]\n",
        "for c in all_classes:\n",
        "\n",
        "  for name, dir in c:\n",
        "    #print('Evaluating ', name, dir)\n",
        "    heatmap, _, mask, _ , duration = create_gradCAM(name, dir, check_preds=True)\n",
        "    map_w, mask_w, dur = evaluate_maps(heatmap, mask, duration)\n",
        "    map_weights.extend(map_w)\n",
        "    mask_weights.extend(mask_w)\n",
        "    durations.extend(dur)\n",
        "    #print('Done\\n')\n",
        "\n",
        "print('Average mask weight: ',sum(mask_weights)/len(mask_weights))\n",
        "print('Standard deviation: ', np.std(mask_weights))\n",
        "print('Average total weight: ', sum(map_weights)/len(map_weights))\n",
        "print('Standard deviation: ', np.std(map_weights))\n",
        "print('Average computing time: ', sum(durations)/len(durations))\n",
        "print('Standard deviation: ', np.std(durations))\n",
        "\n",
        "print('Mask weight percentage: ',((sum(mask_weights)/len(mask_weights))/(sum(map_weights)/len(mask_weights)))*100,'%\\n')\n",
        "if not os.path.exists('/content/gdrive/MyDrive/ResNet50/PizzaTossing'):\n",
        "  os.mkdir('/content/gdrive/MyDrive/ResNet50/PizzaTossing')\n",
        "!cp -R /gradCAM /content/gdrive/MyDrive/ResNet50/PizzaTossing/\n",
        "\n",
        "\n",
        "map_weights = []\n",
        "mask_weights = []\n",
        "durations = []\n",
        "all_classes = [salsa]\n",
        "for c in all_classes:\n",
        "\n",
        "  for name, dir in c:\n",
        "    #print('Evaluating ', name, dir)\n",
        "    heatmap, _, mask, _ , duration = create_gradCAM(name, dir, check_preds=True)\n",
        "    map_w, mask_w, dur = evaluate_maps(heatmap, mask, duration)\n",
        "    map_weights.extend(map_w)\n",
        "    mask_weights.extend(mask_w)\n",
        "    durations.extend(dur)\n",
        "    #print('Done\\n')\n",
        "\n",
        "print('Average mask weight: ',sum(mask_weights)/len(mask_weights))\n",
        "print('Standard deviation: ', np.std(mask_weights))\n",
        "print('Average total weight: ', sum(map_weights)/len(map_weights))\n",
        "print('Standard deviation: ', np.std(map_weights))\n",
        "print('Average computing time: ', sum(durations)/len(durations))\n",
        "print('Standard deviation: ', np.std(durations))\n",
        "\n",
        "print('Mask weight percentage: ',((sum(mask_weights)/len(mask_weights))/(sum(map_weights)/len(mask_weights)))*100,'%\\n')\n",
        "if not os.path.exists('/content/gdrive/MyDrive/ResNet50/SalsaSpin'):\n",
        "  os.mkdir('/content/gdrive/MyDrive/ResNet50/SalsaSpin')\n",
        "!cp -R /gradCAM /content/gdrive/MyDrive/ResNet50/SalsaSpin/\n",
        "\n",
        "\n",
        "map_weights = []\n",
        "mask_weights = []\n",
        "durations = []\n",
        "all_classes = [pizza, salsa, guitar, pushups]\n",
        "for c in all_classes:\n",
        "\n",
        "  for name, dir in c:\n",
        "    #print('Evaluating ', name, dir)\n",
        "    heatmap, _, mask, _ , duration = create_gradCAM(name, dir, check_preds=True)\n",
        "    map_w, mask_w, dur = evaluate_maps(heatmap, mask, duration)\n",
        "    map_weights.extend(map_w)\n",
        "    mask_weights.extend(mask_w)\n",
        "    durations.extend(dur)\n",
        "    #print('Done\\n')\n",
        "\n",
        "print('Average mask weight: ',sum(mask_weights)/len(mask_weights))\n",
        "print('Standard deviation: ', np.std(mask_weights))\n",
        "print('Average total weight: ', sum(map_weights)/len(map_weights))\n",
        "print('Standard deviation: ', np.std(map_weights))\n",
        "print('Average computing time: ', sum(durations)/len(durations))\n",
        "print('Standard deviation: ', np.std(durations))\n",
        "\n",
        "print('Mask weight percentage: ',((sum(mask_weights)/len(mask_weights))/(sum(map_weights)/len(mask_weights)))*100,'%\\n')\n"
      ]
    }
  ],
  "metadata": {
    "colab": {
      "collapsed_sections": [],
      "name": "gradCAM_eval.ipynb",
      "provenance": []
    },
    "kernelspec": {
      "display_name": "Python 3",
      "name": "python3"
    },
    "language_info": {
      "name": "python"
    }
  },
  "nbformat": 4,
  "nbformat_minor": 0
}