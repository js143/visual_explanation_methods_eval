{
  "cells": [
    {
      "cell_type": "markdown",
      "source": [
        "This notebook evaluates Score-CAM with UCF-50 frame using the tf-keras-vis implementation. \n",
        "\n",
        "This notebook is based on the example presented in tf-keras-vis (Kubota, Y. (2021). tf-keras-vis (Version 0.8.1) [Computer software]. https://keisen.github.io/tf-keras-vis-docs/)"
      ],
      "metadata": {
        "id": "ELgTHxx7hCD2"
      }
    },
    {
      "cell_type": "code",
      "execution_count": null,
      "metadata": {
        "colab": {
          "base_uri": "https://localhost:8080/"
        },
        "id": "b9iwfviyzptF",
        "outputId": "e19e54cb-b212-4cab-ee70-267d058a0109"
      },
      "outputs": [
        {
          "output_type": "stream",
          "name": "stdout",
          "text": [
            "Mounted at /content/gdrive\n"
          ]
        }
      ],
      "source": [
        "from google.colab import drive\n",
        "drive.mount('/content/gdrive')"
      ]
    },
    {
      "cell_type": "code",
      "execution_count": null,
      "metadata": {
        "id": "2XJfWgGs0QVn"
      },
      "outputs": [],
      "source": [
        "import numpy as np\n",
        "import matplotlib.pyplot as plt\n",
        "import tensorflow as tf\n",
        "from tensorflow import keras\n",
        "import os\n",
        "import cv2"
      ]
    },
    {
      "cell_type": "markdown",
      "source": [
        "Load frames and masks"
      ],
      "metadata": {
        "id": "Ev9wgKrIi8Qo"
      }
    },
    {
      "cell_type": "code",
      "execution_count": null,
      "metadata": {
        "id": "P6vwyIo41dI0"
      },
      "outputs": [],
      "source": [
        "!cp -R /content/gdrive/MyDrive/masked_images_backup/masks /\n",
        "!cp -R /content/gdrive/MyDrive/video_frames/ /"
      ]
    },
    {
      "cell_type": "code",
      "execution_count": null,
      "metadata": {
        "colab": {
          "base_uri": "https://localhost:8080/"
        },
        "id": "GUd1z03K0inw",
        "outputId": "3304d8b8-8c34-4368-8979-fff103c7f4c8"
      },
      "outputs": [
        {
          "output_type": "stream",
          "name": "stdout",
          "text": [
            "Collecting tf-keras-vis\n",
            "  Downloading tf_keras_vis-0.8.1-py3-none-any.whl (53 kB)\n",
            "\u001b[?25l\r\u001b[K     |██████▏                         | 10 kB 2.2 MB/s eta 0:00:01\r\u001b[K     |████████████▎                   | 20 kB 4.0 MB/s eta 0:00:01\r\u001b[K     |██████████████████▍             | 30 kB 3.9 MB/s eta 0:00:01\r\u001b[K     |████████████████████████▋       | 40 kB 3.6 MB/s eta 0:00:01\r\u001b[K     |██████████████████████████████▊ | 51 kB 3.6 MB/s eta 0:00:01\r\u001b[K     |████████████████████████████████| 53 kB 863 kB/s \n",
            "\u001b[?25hRequirement already satisfied: scipy in /usr/local/lib/python3.7/dist-packages (from tf-keras-vis) (1.4.1)\n",
            "Requirement already satisfied: packaging in /usr/local/lib/python3.7/dist-packages (from tf-keras-vis) (21.3)\n",
            "Requirement already satisfied: importlib-metadata in /usr/local/lib/python3.7/dist-packages (from tf-keras-vis) (4.11.3)\n",
            "Requirement already satisfied: imageio in /usr/local/lib/python3.7/dist-packages (from tf-keras-vis) (2.4.1)\n",
            "Collecting deprecated\n",
            "  Downloading Deprecated-1.2.13-py2.py3-none-any.whl (9.6 kB)\n",
            "Requirement already satisfied: pillow in /usr/local/lib/python3.7/dist-packages (from tf-keras-vis) (7.1.2)\n",
            "Requirement already satisfied: wrapt<2,>=1.10 in /usr/local/lib/python3.7/dist-packages (from deprecated->tf-keras-vis) (1.14.0)\n",
            "Requirement already satisfied: numpy in /usr/local/lib/python3.7/dist-packages (from imageio->tf-keras-vis) (1.21.5)\n",
            "Requirement already satisfied: zipp>=0.5 in /usr/local/lib/python3.7/dist-packages (from importlib-metadata->tf-keras-vis) (3.8.0)\n",
            "Requirement already satisfied: typing-extensions>=3.6.4 in /usr/local/lib/python3.7/dist-packages (from importlib-metadata->tf-keras-vis) (4.1.1)\n",
            "Requirement already satisfied: pyparsing!=3.0.5,>=2.0.2 in /usr/local/lib/python3.7/dist-packages (from packaging->tf-keras-vis) (3.0.8)\n",
            "Installing collected packages: deprecated, tf-keras-vis\n",
            "Successfully installed deprecated-1.2.13 tf-keras-vis-0.8.1\n"
          ]
        }
      ],
      "source": [
        "!pip install tf-keras-vis"
      ]
    },
    {
      "cell_type": "code",
      "execution_count": null,
      "metadata": {
        "id": "GZTj3wKm0omG"
      },
      "outputs": [],
      "source": [
        "import tf_keras_vis"
      ]
    },
    {
      "cell_type": "code",
      "execution_count": null,
      "metadata": {
        "id": "phqjNKbN0wE2"
      },
      "outputs": [],
      "source": [
        "model = keras.models.load_model('/content/gdrive/MyDrive/resnet50_v2_transferLearned_model')"
      ]
    },
    {
      "cell_type": "code",
      "execution_count": null,
      "metadata": {
        "id": "kgHBVbAI1PZN"
      },
      "outputs": [],
      "source": [
        "from keras.preprocessing.image import load_img\n",
        "from keras.applications.resnet_v2 import preprocess_input"
      ]
    },
    {
      "cell_type": "code",
      "execution_count": null,
      "metadata": {
        "id": "OsgIHf17mnhA"
      },
      "outputs": [],
      "source": [
        "from PIL import Image"
      ]
    },
    {
      "cell_type": "code",
      "execution_count": null,
      "metadata": {
        "id": "1VIQcLnYqSPT"
      },
      "outputs": [],
      "source": [
        "classes_list = ['PizzaTossing', 'PlayingGuitar', 'PushUps', 'SalsaSpin']"
      ]
    },
    {
      "cell_type": "code",
      "execution_count": null,
      "metadata": {
        "id": "mo2i5FWgG8Fq"
      },
      "outputs": [],
      "source": [
        "from matplotlib import cm\n",
        "from tf_keras_vis.scorecam import Scorecam"
      ]
    },
    {
      "cell_type": "code",
      "execution_count": null,
      "metadata": {
        "id": "FWcHfNSopB8g"
      },
      "outputs": [],
      "source": [
        "def create_scoreCAM(class_name, dir_name, check_preds=False):\n",
        "  images, masks, file_names, X = prepare_data(class_name, dir_name, check_preds)\n",
        "  replace2linear = ReplaceToLinear()\n",
        "  # 0 = PizzaTossing, 1 = PlayingGuiar, 2 = PushUps, 3 = SalsaSpin.\n",
        "  for index, name in enumerate(classes_list):\n",
        "    if name==class_name:\n",
        "      score = CategoricalScore([index])\n",
        "  start = time.time()\n",
        "  # Create ScoreCAM object\n",
        "  scorecam = Scorecam(model)\n",
        "  \n",
        "  # Generate heatmap with ScoreCAM\n",
        "  cam = scorecam(score, X, penultimate_layer=-1)\n",
        "\n",
        "  duration = time.time()-start\n",
        "\n",
        "  for index, map in enumerate(cam):\n",
        "    path = file_names[index].replace('video_frames','scoreCAM')\n",
        "\n",
        "    # Render\n",
        "    f, ax = plt.subplots(nrows=1, ncols=1, figsize=(4, 4))\n",
        "    #heatmap = np.uint8(cm.jet(map)[..., :3] * 255)\n",
        "    ax.set_title(class_name, fontsize=16)\n",
        "    ax.imshow(images[index])\n",
        "    ax.imshow(map, cmap='jet', alpha=0.5)\n",
        "    ax.axis('off')\n",
        "    plt.tight_layout()\n",
        "    plt.savefig(path)\n",
        "    #plt.show()\n",
        "    plt.close()\n",
        "  return cam, images, masks, file_names, duration\n"
      ]
    },
    {
      "cell_type": "code",
      "execution_count": null,
      "metadata": {
        "id": "GqRdruhO211Q"
      },
      "outputs": [],
      "source": [
        "def prepare_data(class_name, dir_name, image_path, mask_path, check_preds=False):\n",
        "\n",
        "\n",
        "  masks_root = '/masks'\n",
        "  images_root ='/video_frames'\n",
        "\n",
        "\n",
        "  im = load_img(image_path,target_size=(100,100))\n",
        "  im = np.array(im)\n",
        "  x = np.asarray([im])\n",
        "  x = preprocess_input(x)\n",
        "  pred = model.predict(x)\n",
        "\n",
        "  if not os.path.exists('/scoreCAM'):\n",
        "    os.mkdir('/scoreCAM')\n",
        "  if not os.path.exists(os.path.join('/scoreCAM',class_name)):\n",
        "    os.mkdir(os.path.join('/scoreCAM',class_name))\n",
        "  if not os.path.exists(os.path.join('/scoreCAM', class_name, dir_name)):\n",
        "    os.mkdir(os.path.join('/scoreCAM', class_name, dir_name))\n",
        "  \n",
        "  image = None\n",
        "  mask = None\n",
        "  file_name = None\n",
        "  if classes_list[np.argmax(pred[0])] == class_name or check_preds:\n",
        "\n",
        "    file_name = image_path\n",
        "\n",
        "\n",
        "\n",
        "    msk = np.array(Image.open(mask_path).resize(im.shape[1::-1], Image.BILINEAR))\n",
        "    msk = msk/255\n",
        "\n",
        "    image= im\n",
        "    mask=msk\n",
        "    \n",
        "  \n",
        "  image_batch = np.asarray([image])\n",
        "\n",
        "  # Preparing input data\n",
        "  X = preprocess_input(image_batch)\n",
        "\n",
        "  \n",
        "\n",
        "  return image, mask, file_name, X"
      ]
    },
    {
      "cell_type": "code",
      "execution_count": null,
      "metadata": {
        "id": "Z2SlTdtj7JX7"
      },
      "outputs": [],
      "source": [
        "from tf_keras_vis.utils.model_modifiers import ReplaceToLinear\n",
        "from tf_keras_vis.utils.scores import CategoricalScore\n",
        "from keras import backend as K\n",
        "import time"
      ]
    },
    {
      "cell_type": "code",
      "execution_count": null,
      "metadata": {
        "id": "CmPjVDmgteUF"
      },
      "outputs": [],
      "source": [
        "pizza = [('PizzaTossing','v_PizzaTossing_g02_c02')]\n",
        "salsa = [('SalsaSpin','v_SalsaSpin_g04_c02'),('SalsaSpin','v_SalsaSpin_g11_c02'),('SalsaSpin','v_SalsaSpin_g18_c04')]\n",
        "guitar = [('PlayingGuitar', 'v_PlayingGuitar_g06_c05'), ('PlayingGuitar', 'v_PlayingGuitar_g11_c02'),('PlayingGuitar','v_PlayingGuitar_g22_c03')]\n",
        "pushups = [('PushUps', 'v_PushUps_g11_c03'), ('PushUps','v_PushUps_g14_c04'),('PushUps','v_PushUps_g18_c02')]\n",
        "\n",
        "#all_classes = [pizza, salsa, guitar, pushups]"
      ]
    },
    {
      "cell_type": "code",
      "execution_count": null,
      "metadata": {
        "id": "haA-iHYFEdjF"
      },
      "outputs": [],
      "source": [
        "def initiate_eval(class_name, dir_name, check_preds=False):\n",
        "  masks_root = '/masks'\n",
        "  images_root ='/video_frames'\n",
        "\n",
        "  \n",
        "  \n",
        "  \n",
        "  maps = []\n",
        "  images = []\n",
        "  masks = []\n",
        "  file_names = []\n",
        "  durations = []\n",
        "\n",
        "  for mask_name in os.listdir(os.path.join(masks_root, class_name, dir_name, 'masks')):\n",
        "    image_name = mask_name.replace('png','jpg')\n",
        "    image_path = os.path.join(images_root,class_name,dir_name,image_name)\n",
        "    mask_path = os.path.join(masks_root, class_name, dir_name, 'masks', mask_name)\n",
        "\n",
        "    img, msk, file_name, x = prepare_data(class_name, dir_name, image_path, mask_path, check_preds)\n",
        "\n",
        "    if img is not None:\n",
        "  \n",
        "\n",
        "      replace2linear = ReplaceToLinear()\n",
        "\n",
        "      # 0 = PizzaTossing, 1 = PlayingGuiar, 2 = PushUps, 3 = SalsaSpin.\n",
        "      for index, name in enumerate(classes_list):\n",
        "        if name==class_name:\n",
        "          score = CategoricalScore([index])\n",
        "      \n",
        "\n",
        "      start = time.time()\n",
        "      # Create ScoreCAM object\n",
        "      scorecam = Scorecam(model)\n",
        "      \n",
        "      # Generate heatmap with ScoreCAM\n",
        "      cam = scorecam(score, x, penultimate_layer=-1)\n",
        "\n",
        "      duration = time.time()-start\n",
        "\n",
        "      for index, map in enumerate(cam):\n",
        "        path = file_name.replace('video_frames','scoreCAM')\n",
        "\n",
        "        # Render\n",
        "        f, ax = plt.subplots(nrows=1, ncols=1, figsize=(4, 4))\n",
        "        #heatmap = np.uint8(cm.jet(map)[..., :3] * 255)\n",
        "        ax.set_title(class_name, fontsize=16)\n",
        "        ax.imshow(img)\n",
        "        ax.imshow(map, cmap='jet', alpha=0.5)\n",
        "        ax.axis('off')\n",
        "        plt.tight_layout()\n",
        "        plt.savefig(path)\n",
        "        #plt.show()\n",
        "        plt.close()\n",
        "        \n",
        "        maps.append(cam)\n",
        "        images.append(img)\n",
        "        masks.append(msk)\n",
        "        file_names.append(file_name)\n",
        "        durations.append(duration)\n",
        "\n",
        "  return maps, images, masks, file_names, durations"
      ]
    },
    {
      "cell_type": "code",
      "execution_count": null,
      "metadata": {
        "id": "DL22ZqVQHuXA"
      },
      "outputs": [],
      "source": [
        "def evaluate_maps(maps, masks, duration):\n",
        "  duration = duration/ len(maps)\n",
        "  duration_list = []\n",
        "  duration_list.extend([duration]*len(maps))\n",
        "\n",
        "  map_weight_list = []\n",
        "  mask_weight_list = []\n",
        "  for index, map in enumerate(maps):\n",
        "    map_weight = np.sum(map)\n",
        "    dst = map * masks[index]\n",
        "    mask_weight = np.sum(dst)\n",
        "\n",
        "    map_weight_list.append(map_weight)\n",
        "    mask_weight_list.append(mask_weight)\n",
        "\n",
        "  return map_weight_list, mask_weight_list, duration_list\n",
        "\n"
      ]
    },
    {
      "cell_type": "code",
      "execution_count": null,
      "metadata": {
        "id": "KmfE2dD8DhO_"
      },
      "outputs": [],
      "source": [
        "map_weights = []\n",
        "mask_weights = []\n",
        "durations = []\n",
        "all_classes= [pizza, salsa]\n",
        "for c in all_classes:\n",
        "\n",
        "  for name, dir in c:\n",
        "    #print('Evaluating ', name, dir)\n",
        "    heatmap, _, mask, _ , durations = initiate_eval(name, dir)\n",
        "    duration = sum(durations)/len(durations)\n",
        "    map_w, mask_w, dur = evaluate_maps(heatmap, mask, duration)\n",
        "    map_weights.extend(map_w)\n",
        "    mask_weights.extend(mask_w)\n",
        "    durations.extend(dur)\n",
        "    #print('Done\\n')\n",
        "\n",
        "print('Average mask weight: ',sum(mask_weights)/len(mask_weights))\n",
        "print('Standard deviation: ', np.std(mask_weights))\n",
        "print('Average total weight: ', sum(map_weights)/len(map_weights))\n",
        "print('Standard deviation: ', np.std(map_weights))\n",
        "print('Average computing time: ', sum(durations)/len(durations))\n",
        "print('Standard deviation: ', np.std(durations))\n",
        "\n",
        "print('Mask weight percentage: ',((sum(mask_weights)/len(mask_weights))/(sum(map_weights)/len(mask_weights)))*100,'%\\n')\n",
        "if not os.path.exists('/content/gdrive/MyDrive/Xception'):\n",
        "  os.mkdir('/content/gdrive/MyDrive/Xception')\n",
        "!cp -R /scoreCAM /content/gdrive/MyDrive/Xception/\n",
        "\n",
        "map_weights = []\n",
        "mask_weights = []\n",
        "durations = []\n",
        "all_classes= [pizza]\n",
        "\n",
        "for c in all_classes:\n",
        "\n",
        "  for name, dir in c:\n",
        "    #print('Evaluating ', name, dir)\n",
        "    heatmap, _, mask, _ , durations = initiate_eval(name, dir)\n",
        "    duration = sum(durations)/len(durations)\n",
        "    map_w, mask_w, dur = evaluate_maps(heatmap, mask, duration)\n",
        "    map_weights.extend(map_w)\n",
        "    mask_weights.extend(mask_w)\n",
        "    durations.extend(dur)\n",
        "    #print('Done\\n')\n",
        "\n",
        "print('Average mask weight: ',sum(mask_weights)/len(mask_weights))\n",
        "print('Standard deviation: ', np.std(mask_weights))\n",
        "print('Average total weight: ', sum(map_weights)/len(map_weights))\n",
        "print('Standard deviation: ', np.std(map_weights))\n",
        "print('Average computing time: ', sum(durations)/len(durations))\n",
        "print('Standard deviation: ', np.std(durations))\n",
        "\n",
        "print('Mask weight percentage: ',((sum(mask_weights)/len(mask_weights))/(sum(map_weights)/len(mask_weights)))*100,'%\\n')\n",
        "\n",
        "map_weights = []\n",
        "mask_weights = []\n",
        "durations = []\n",
        "all_classes= [salsa]\n",
        "for c in all_classes:\n",
        "\n",
        "  for name, dir in c:\n",
        "    #print('Evaluating ', name, dir)\n",
        "    heatmap, _, mask, _ , durations = initiate_eval(name, dir)\n",
        "    duration = sum(durations)/len(durations)\n",
        "    map_w, mask_w, dur = evaluate_maps(heatmap, mask, duration)\n",
        "    map_weights.extend(map_w)\n",
        "    mask_weights.extend(mask_w)\n",
        "    durations.extend(dur)\n",
        "    #print('Done\\n')\n",
        "\n",
        "print('Average mask weight: ',sum(mask_weights)/len(mask_weights))\n",
        "print('Standard deviation: ', np.std(mask_weights))\n",
        "print('Average total weight: ', sum(map_weights)/len(map_weights))\n",
        "print('Standard deviation: ', np.std(map_weights))\n",
        "print('Average computing time: ', sum(durations)/len(durations))\n",
        "print('Standard deviation: ', np.std(durations))\n",
        "\n",
        "print('Mask weight percentage: ',((sum(mask_weights)/len(mask_weights))/(sum(map_weights)/len(mask_weights)))*100,'%\\n')\n",
        "\n",
        "\n",
        "map_weights = []\n",
        "mask_weights = []\n",
        "durations = []\n",
        "all_classes= [pushups]\n",
        "for c in all_classes:\n",
        "\n",
        "  for name, dir in c:\n",
        "    #print('Evaluating ', name, dir)\n",
        "    heatmap, _, mask, _ , durations = initiate_eval(name, dir)\n",
        "    duration = sum(durations)/len(durations)\n",
        "    map_w, mask_w, dur = evaluate_maps(heatmap, mask, duration, check_preds=True)\n",
        "    map_weights.extend(map_w)\n",
        "    mask_weights.extend(mask_w)\n",
        "    durations.extend(dur)\n",
        "    #print('Done\\n')\n",
        "\n",
        "print('Average mask weight: ',sum(mask_weights)/len(mask_weights))\n",
        "print('Standard deviation: ', np.std(mask_weights))\n",
        "print('Average total weight: ', sum(map_weights)/len(map_weights))\n",
        "print('Standard deviation: ', np.std(map_weights))\n",
        "print('Average computing time: ', sum(durations)/len(durations))\n",
        "print('Standard deviation: ', np.std(durations))\n",
        "\n",
        "print('Mask weight percentage: ',((sum(mask_weights)/len(mask_weights))/(sum(map_weights)/len(mask_weights)))*100,'%\\n')\n",
        "if not os.path.exists('/content/gdrive/MyDrive/Xception/PushUps'):\n",
        "  os.mkdir('/content/gdrive/MyDrive/Xception/PushUps')\n",
        "!cp -R /scoreCAM /content/gdrive/MyDrive/Xception/PushUps/\n",
        "\n",
        "map_weights = []\n",
        "mask_weights = []\n",
        "durations = []\n",
        "all_classes= [guitar]\n",
        "for c in all_classes:\n",
        "\n",
        "  for name, dir in c:\n",
        "    #print('Evaluating ', name, dir)\n",
        "    heatmap, _, mask, _ , durations = initiate_eval(name, dir)\n",
        "    duration = sum(durations)/len(durations)\n",
        "    map_w, mask_w, dur = evaluate_maps(heatmap, mask, duration, check_preds=True)\n",
        "    map_weights.extend(map_w)\n",
        "    mask_weights.extend(mask_w)\n",
        "    durations.extend(dur)\n",
        "    #print('Done\\n')\n",
        "\n",
        "print('Average mask weight: ',sum(mask_weights)/len(mask_weights))\n",
        "print('Standard deviation: ', np.std(mask_weights))\n",
        "print('Average total weight: ', sum(map_weights)/len(map_weights))\n",
        "print('Standard deviation: ', np.std(map_weights))\n",
        "print('Average computing time: ', sum(durations)/len(durations))\n",
        "print('Standard deviation: ', np.std(durations))\n",
        "\n",
        "print('Mask weight percentage: ',((sum(mask_weights)/len(mask_weights))/(sum(map_weights)/len(mask_weights)))*100,'%\\n')\n",
        "if not os.path.exists('/content/gdrive/MyDrive/Xception/PlayingGuitar'):\n",
        "  os.mkdir('/content/gdrive/MyDrive/Xception/PlayingGuitar')\n",
        "!cp -R /scoreCAM /content/gdrive/MyDrive/Xception/PlayingGuitar/\n",
        "\n",
        "\n",
        "map_weights = []\n",
        "mask_weights = []\n",
        "durations = []\n",
        "all_classes= [pizza]\n",
        "for c in all_classes:\n",
        "\n",
        "  for name, dir in c:\n",
        "    #print('Evaluating ', name, dir)\n",
        "    heatmap, _, mask, _ , durations = initiate_eval(name, dir)\n",
        "    duration = sum(durations)/len(durations)\n",
        "    map_w, mask_w, dur = evaluate_maps(heatmap, mask, duration, check_preds=True)\n",
        "    map_weights.extend(map_w)\n",
        "    mask_weights.extend(mask_w)\n",
        "    durations.extend(dur)\n",
        "    #print('Done\\n')\n",
        "\n",
        "print('Average mask weight: ',sum(mask_weights)/len(mask_weights))\n",
        "print('Standard deviation: ', np.std(mask_weights))\n",
        "print('Average total weight: ', sum(map_weights)/len(map_weights))\n",
        "print('Standard deviation: ', np.std(map_weights))\n",
        "print('Average computing time: ', sum(durations)/len(durations))\n",
        "print('Standard deviation: ', np.std(durations))\n",
        "\n",
        "print('Mask weight percentage: ',((sum(mask_weights)/len(mask_weights))/(sum(map_weights)/len(mask_weights)))*100,'%\\n')\n",
        "if not os.path.exists('/content/gdrive/MyDrive/Xception/PizzaTossing'):\n",
        "  os.mkdir('/content/gdrive/MyDrive/Xception/PizzaTossing')\n",
        "!cp -R /scoreCAM /content/gdrive/MyDrive/Xception/PizzaTossing/\n",
        "\n",
        "\n",
        "map_weights = []\n",
        "mask_weights = []\n",
        "durations = []\n",
        "all_classes= [salsa]\n",
        "for c in all_classes:\n",
        "\n",
        "  for name, dir in c:\n",
        "    #print('Evaluating ', name, dir)\n",
        "    heatmap, _, mask, _ , durations = initiate_eval(name, dir)\n",
        "    duration = sum(durations)/len(durations)\n",
        "    map_w, mask_w, dur = evaluate_maps(heatmap, mask, duration, check_preds=True)\n",
        "    map_weights.extend(map_w)\n",
        "    mask_weights.extend(mask_w)\n",
        "    durations.extend(dur)\n",
        "    #print('Done\\n')\n",
        "\n",
        "print('Average mask weight: ',sum(mask_weights)/len(mask_weights))\n",
        "print('Standard deviation: ', np.std(mask_weights))\n",
        "print('Average total weight: ', sum(map_weights)/len(map_weights))\n",
        "print('Standard deviation: ', np.std(map_weights))\n",
        "print('Average computing time: ', sum(durations)/len(durations))\n",
        "print('Standard deviation: ', np.std(durations))\n",
        "\n",
        "print('Mask weight percentage: ',((sum(mask_weights)/len(mask_weights))/(sum(map_weights)/len(mask_weights)))*100,'%\\n')\n",
        "if not os.path.exists('/content/gdrive/MyDrive/Xception/SalsaSpin'):\n",
        "  os.mkdir('/content/gdrive/MyDrive/Xception/SalsaSpin')\n",
        "!cp -R /scoreCAM /content/gdrive/MyDrive/Xception/SalsaSpin/\n",
        "\n",
        "\n",
        "map_weights = []\n",
        "mask_weights = []\n",
        "durations = []\n",
        "all_classes= [pizza, salsa, guitar, pushups]\n",
        "for c in all_classes:\n",
        "\n",
        "  for name, dir in c:\n",
        "    #print('Evaluating ', name, dir)\n",
        "    heatmap, _, mask, _ , durations = initiate_eval(name, dir)\n",
        "    duration = sum(durations)/len(durations)\n",
        "    map_w, mask_w, dur = evaluate_maps(heatmap, mask, duration, check_preds=True)\n",
        "    map_weights.extend(map_w)\n",
        "    mask_weights.extend(mask_w)\n",
        "    durations.extend(dur)\n",
        "    #print('Done\\n')\n",
        "\n",
        "print('Average mask weight: ',sum(mask_weights)/len(mask_weights))\n",
        "print('Standard deviation: ', np.std(mask_weights))\n",
        "print('Average total weight: ', sum(map_weights)/len(map_weights))\n",
        "print('Standard deviation: ', np.std(map_weights))\n",
        "print('Average computing time: ', sum(durations)/len(durations))\n",
        "print('Standard deviation: ', np.std(durations))\n",
        "\n",
        "print('Mask weight percentage: ',((sum(mask_weights)/len(mask_weights))/(sum(map_weights)/len(mask_weights)))*100,'%\\n')\n"
      ]
    }
  ],
  "metadata": {
    "colab": {
      "collapsed_sections": [],
      "name": "scoreCAM_eval.ipynb",
      "provenance": []
    },
    "kernelspec": {
      "display_name": "Python 3",
      "name": "python3"
    },
    "language_info": {
      "name": "python"
    }
  },
  "nbformat": 4,
  "nbformat_minor": 0
}