{
  "nbformat": 4,
  "nbformat_minor": 0,
  "metadata": {
    "colab": {
      "name": "faster_scoreCAM_eval.ipynb",
      "provenance": [],
      "collapsed_sections": []
    },
    "kernelspec": {
      "name": "python3",
      "display_name": "Python 3"
    },
    "language_info": {
      "name": "python"
    }
  },
  "cells": [
    {
      "cell_type": "markdown",
      "source": [
        "This notebook evaluates Faster-Score-CAM with UCF-50 frame using the tf-keras-vis implementation. \n",
        "\n",
        "This notebook is based on the example presented in tf-keras-vis (Kubota, Y. (2021). tf-keras-vis (Version 0.8.1) [Computer software]. https://keisen.github.io/tf-keras-vis-docs/)"
      ],
      "metadata": {
        "id": "ELgTHxx7hCD2"
      }
    },
    {
      "cell_type": "code",
      "execution_count": null,
      "metadata": {
        "colab": {
          "base_uri": "https://localhost:8080/"
        },
        "id": "b9iwfviyzptF",
        "outputId": "a91aa356-ccde-415c-bba6-337692974d4f"
      },
      "outputs": [
        {
          "output_type": "stream",
          "name": "stdout",
          "text": [
            "Mounted at /content/gdrive\n"
          ]
        }
      ],
      "source": [
        "from google.colab import drive\n",
        "drive.mount('/content/gdrive')"
      ]
    },
    {
      "cell_type": "code",
      "source": [
        "import numpy as np\n",
        "import matplotlib.pyplot as plt\n",
        "import tensorflow as tf\n",
        "from tensorflow import keras\n",
        "import os\n",
        "import cv2"
      ],
      "metadata": {
        "id": "2XJfWgGs0QVn"
      },
      "execution_count": null,
      "outputs": []
    },
    {
      "cell_type": "markdown",
      "source": [
        "Load frames and masks"
      ],
      "metadata": {
        "id": "Ev9wgKrIi8Qo"
      }
    },
    {
      "cell_type": "code",
      "source": [
        "!cp -R /content/gdrive/MyDrive/masked_images_backup/masks /\n",
        "!cp -R /content/gdrive/MyDrive/video_frames/ /"
      ],
      "metadata": {
        "id": "P6vwyIo41dI0"
      },
      "execution_count": null,
      "outputs": []
    },
    {
      "cell_type": "code",
      "source": [
        "!pip install tf-keras-vis"
      ],
      "metadata": {
        "colab": {
          "base_uri": "https://localhost:8080/"
        },
        "id": "GUd1z03K0inw",
        "outputId": "801866c3-0d5f-43f3-9ff5-586b545760a9"
      },
      "execution_count": null,
      "outputs": [
        {
          "output_type": "stream",
          "name": "stdout",
          "text": [
            "Collecting tf-keras-vis\n",
            "  Downloading tf_keras_vis-0.8.1-py3-none-any.whl (53 kB)\n",
            "\u001b[?25l\r\u001b[K     |██████▏                         | 10 kB 18.6 MB/s eta 0:00:01\r\u001b[K     |████████████▎                   | 20 kB 24.4 MB/s eta 0:00:01\r\u001b[K     |██████████████████▍             | 30 kB 18.3 MB/s eta 0:00:01\r\u001b[K     |████████████████████████▋       | 40 kB 6.5 MB/s eta 0:00:01\r\u001b[K     |██████████████████████████████▊ | 51 kB 6.8 MB/s eta 0:00:01\r\u001b[K     |████████████████████████████████| 53 kB 1.5 MB/s \n",
            "\u001b[?25hRequirement already satisfied: scipy in /usr/local/lib/python3.7/dist-packages (from tf-keras-vis) (1.4.1)\n",
            "Requirement already satisfied: pillow in /usr/local/lib/python3.7/dist-packages (from tf-keras-vis) (7.1.2)\n",
            "Requirement already satisfied: importlib-metadata in /usr/local/lib/python3.7/dist-packages (from tf-keras-vis) (4.11.3)\n",
            "Requirement already satisfied: packaging in /usr/local/lib/python3.7/dist-packages (from tf-keras-vis) (21.3)\n",
            "Collecting deprecated\n",
            "  Downloading Deprecated-1.2.13-py2.py3-none-any.whl (9.6 kB)\n",
            "Requirement already satisfied: imageio in /usr/local/lib/python3.7/dist-packages (from tf-keras-vis) (2.4.1)\n",
            "Requirement already satisfied: wrapt<2,>=1.10 in /usr/local/lib/python3.7/dist-packages (from deprecated->tf-keras-vis) (1.14.0)\n",
            "Requirement already satisfied: numpy in /usr/local/lib/python3.7/dist-packages (from imageio->tf-keras-vis) (1.21.6)\n",
            "Requirement already satisfied: zipp>=0.5 in /usr/local/lib/python3.7/dist-packages (from importlib-metadata->tf-keras-vis) (3.8.0)\n",
            "Requirement already satisfied: typing-extensions>=3.6.4 in /usr/local/lib/python3.7/dist-packages (from importlib-metadata->tf-keras-vis) (4.1.1)\n",
            "Requirement already satisfied: pyparsing!=3.0.5,>=2.0.2 in /usr/local/lib/python3.7/dist-packages (from packaging->tf-keras-vis) (3.0.8)\n",
            "Installing collected packages: deprecated, tf-keras-vis\n",
            "Successfully installed deprecated-1.2.13 tf-keras-vis-0.8.1\n"
          ]
        }
      ]
    },
    {
      "cell_type": "code",
      "source": [
        "import tf_keras_vis"
      ],
      "metadata": {
        "id": "GZTj3wKm0omG"
      },
      "execution_count": null,
      "outputs": []
    },
    {
      "cell_type": "code",
      "source": [
        "model = keras.models.load_model('/content/gdrive/MyDrive/resnet50_v2_transferLearned_model')"
      ],
      "metadata": {
        "id": "phqjNKbN0wE2"
      },
      "execution_count": null,
      "outputs": []
    },
    {
      "cell_type": "code",
      "source": [
        "from keras.preprocessing.image import load_img\n",
        "from keras.applications.resnet_v2 import preprocess_input"
      ],
      "metadata": {
        "id": "kgHBVbAI1PZN"
      },
      "execution_count": null,
      "outputs": []
    },
    {
      "cell_type": "code",
      "source": [
        "from PIL import Image"
      ],
      "metadata": {
        "id": "OsgIHf17mnhA"
      },
      "execution_count": null,
      "outputs": []
    },
    {
      "cell_type": "code",
      "source": [
        "classes_list = ['PizzaTossing', 'PlayingGuitar', 'PushUps', 'SalsaSpin']"
      ],
      "metadata": {
        "id": "1VIQcLnYqSPT"
      },
      "execution_count": null,
      "outputs": []
    },
    {
      "cell_type": "code",
      "source": [
        "from matplotlib import cm\n",
        "from tf_keras_vis.scorecam import Scorecam"
      ],
      "metadata": {
        "id": "mo2i5FWgG8Fq"
      },
      "execution_count": null,
      "outputs": []
    },
    {
      "cell_type": "code",
      "source": [
        "def prepare_data(class_name, dir_name, check_preds=False):\n",
        "\n",
        "  images =[]\n",
        "  file_names =[]\n",
        "  masks = []\n",
        "\n",
        "  masks_root = '/masks'\n",
        "  images_root ='/video_frames'\n",
        "  \n",
        "  \n",
        "  for mask_name in os.listdir(os.path.join(masks_root, class_name, dir_name, 'masks')):\n",
        "    image_name = mask_name.replace('png','jpg')\n",
        "    image_path = os.path.join(images_root,class_name,dir_name,image_name)\n",
        "    mask_path = os.path.join(masks_root, class_name, dir_name, 'masks', mask_name)\n",
        "\n",
        "    im = load_img(image_path,target_size=(100,100))\n",
        "    im = np.array(im)\n",
        "    x = np.asarray([im])\n",
        "    x = preprocess_input(x)\n",
        "    pred = model.predict(x)\n",
        "\n",
        "    if not os.path.exists('/faster_scoreCAM'):\n",
        "      os.mkdir('/faster_scoreCAM')\n",
        "    if not os.path.exists(os.path.join('/faster_scoreCAM',class_name)):\n",
        "      os.mkdir(os.path.join('/faster_scoreCAM',class_name))\n",
        "    if not os.path.exists(os.path.join('/faster_scoreCAM', class_name, dir_name)):\n",
        "      os.mkdir(os.path.join('/faster_scoreCAM', class_name, dir_name))\n",
        "    \n",
        "\n",
        "    if classes_list[np.argmax(pred[0])] == class_name or check_preds:\n",
        "\n",
        "      file_names.append(image_path)\n",
        "\n",
        "\n",
        "\n",
        "      msk = np.array(Image.open(mask_path).resize(im.shape[1::-1], Image.BILINEAR))\n",
        "      msk = msk/255\n",
        "\n",
        "      images.append(im)\n",
        "      masks.append(msk)\n",
        "    \n",
        "\n",
        "  images = np.asarray(images)\n",
        "\n",
        "  # Preparing input data\n",
        "  X = preprocess_input(images)\n",
        "\n",
        "\n",
        "\n",
        "  return images, masks, file_names, X"
      ],
      "metadata": {
        "id": "GqRdruhO211Q"
      },
      "execution_count": null,
      "outputs": []
    },
    {
      "cell_type": "code",
      "source": [
        "from tf_keras_vis.utils.model_modifiers import ReplaceToLinear\n",
        "from tf_keras_vis.utils.scores import CategoricalScore\n",
        "from keras import backend as K\n",
        "import time"
      ],
      "metadata": {
        "id": "Z2SlTdtj7JX7"
      },
      "execution_count": null,
      "outputs": []
    },
    {
      "cell_type": "code",
      "source": [
        "def create_scoreCAM(class_name, dir_name, check_preds=False):\n",
        "  images, masks, file_names, X = prepare_data(class_name, dir_name, check_preds)\n",
        "  replace2linear = ReplaceToLinear()\n",
        "  # 0 = PizzaTossing, 1 = PlayingGuiar, 2 = PushUps, 3 = SalsaSpin.\n",
        "  for index, name in enumerate(classes_list):\n",
        "    if name==class_name:\n",
        "      score = CategoricalScore([index])\n",
        "  start = time.time()\n",
        "  # Create ScoreCAM object\n",
        "  scorecam = Scorecam(model, model_modifier=replace2linear)\n",
        "  \n",
        "  # Generate heatmap with Faster-ScoreCAM\n",
        "  cam = scorecam(score,\n",
        "               X,\n",
        "               penultimate_layer=-1,\n",
        "               max_N=10)\n",
        "\n",
        "  duration = time.time()-start\n",
        "\n",
        "  for index, map in enumerate(cam):\n",
        "    path = file_names[index].replace('video_frames','faster_scoreCAM')\n",
        "\n",
        "    # Render\n",
        "    f, ax = plt.subplots(nrows=1, ncols=1, figsize=(4, 4))\n",
        "    #heatmap = np.uint8(cm.jet(map)[..., :3] * 255)\n",
        "    ax.set_title(class_name, fontsize=16)\n",
        "    ax.imshow(images[index])\n",
        "    ax.imshow(map, cmap='jet', alpha=0.5)\n",
        "    ax.axis('off')\n",
        "    plt.tight_layout()\n",
        "    plt.savefig(path)\n",
        "    #plt.show()\n",
        "    plt.close()\n",
        "  return cam, images, masks, file_names, duration\n"
      ],
      "metadata": {
        "id": "FWcHfNSopB8g"
      },
      "execution_count": null,
      "outputs": []
    },
    {
      "cell_type": "code",
      "source": [
        "def evaluate_maps(maps, masks, duration):\n",
        "  duration = duration/ len(maps)\n",
        "  duration_list = []\n",
        "  duration_list.extend([duration]*len(maps))\n",
        "\n",
        "  map_weight_list = []\n",
        "  mask_weight_list = []\n",
        "  for index, map in enumerate(maps):\n",
        "    map_weight = np.sum(map)\n",
        "    dst = map * masks[index]\n",
        "    mask_weight = np.sum(dst)\n",
        "\n",
        "    map_weight_list.append(map_weight)\n",
        "    mask_weight_list.append(mask_weight)\n",
        "\n",
        "  return map_weight_list, mask_weight_list, duration_list\n",
        "\n"
      ],
      "metadata": {
        "id": "DL22ZqVQHuXA"
      },
      "execution_count": null,
      "outputs": []
    },
    {
      "cell_type": "code",
      "execution_count": null,
      "metadata": {
        "id": "NJcPby9dOygC"
      },
      "outputs": [],
      "source": [
        "pizza = [('PizzaTossing','v_PizzaTossing_g02_c02')]\n",
        "salsa = [('SalsaSpin','v_SalsaSpin_g04_c02'),('SalsaSpin','v_SalsaSpin_g11_c02'),('SalsaSpin','v_SalsaSpin_g18_c04')]\n",
        "guitar = [('PlayingGuitar', 'v_PlayingGuitar_g06_c05'), ('PlayingGuitar', 'v_PlayingGuitar_g11_c02'),('PlayingGuitar','v_PlayingGuitar_g22_c03')]\n",
        "pushups = [('PushUps', 'v_PushUps_g11_c03'), ('PushUps','v_PushUps_g14_c04'),('PushUps','v_PushUps_g18_c02')]\n",
        "\n",
        "#all_classes = [pizza, salsa, guitar, pushups]"
      ]
    },
    {
      "cell_type": "code",
      "execution_count": null,
      "metadata": {
        "colab": {
          "base_uri": "https://localhost:8080/"
        },
        "id": "KmfE2dD8DhO_",
        "outputId": "1cd0429c-9e1f-44c6-e088-6c07b726055d"
      },
      "outputs": [
        {
          "output_type": "stream",
          "name": "stdout",
          "text": [
            "Average mask weight:  933.8361381117182\n",
            "Standard deviation:  211.23693738607682\n",
            "Average total weight:  4788.100741916398\n",
            "Standard deviation:  1210.2671\n",
            "Average computing time:  1.1976560917165542\n",
            "Standard deviation:  0.16826820054906094\n",
            "Mask weight percentage:  19.50326838231808 %\n",
            "\n",
            "Average mask weight:  968.3037668002062\n",
            "Standard deviation:  47.06924891502631\n",
            "Average total weight:  5341.062879774306\n",
            "Standard deviation:  226.6322\n",
            "Average computing time:  1.0532644059922949\n",
            "Standard deviation:  0.0\n",
            "Mask weight percentage:  18.129420839941943 %\n",
            "\n",
            "Average mask weight:  830.4332520462532\n",
            "Standard deviation:  396.9652669388511\n",
            "Average total weight:  3129.2143283426767\n",
            "Standard deviation:  1426.7775\n",
            "Average computing time:  1.453561902046204\n",
            "Standard deviation:  0.09546803366996512\n",
            "Mask weight percentage:  26.538075213469792 %\n",
            "\n",
            "Average mask weight:  1554.6862306641733\n",
            "Standard deviation:  676.465528827584\n",
            "Average total weight:  3977.786737887449\n",
            "Standard deviation:  1123.8484\n",
            "Average computing time:  2.8038443459404885\n",
            "Standard deviation:  0.13821738782195198\n",
            "Mask weight percentage:  39.084202676231136 %\n",
            "\n",
            "Average mask weight:  27.727269086865462\n",
            "Standard deviation:  259.9315117516377\n",
            "Average total weight:  35.14884333320774\n",
            "Standard deviation:  331.71423\n",
            "Average computing time:  1.0887237016667328\n",
            "Standard deviation:  0.18993208383703705\n",
            "Mask weight percentage:  78.88529595131637 %\n",
            "\n",
            "Average mask weight:  968.3037668002062\n",
            "Standard deviation:  47.06924891502631\n",
            "Average total weight:  5341.062879774306\n",
            "Standard deviation:  226.6322\n",
            "Average computing time:  1.043478038575913\n",
            "Standard deviation:  0.0\n",
            "Mask weight percentage:  18.129420839941943 %\n",
            "\n",
            "Average mask weight:  825.2624216562707\n",
            "Standard deviation:  389.7710052383693\n",
            "Average total weight:  3063.7220248149297\n",
            "Standard deviation:  1326.0372\n",
            "Average computing time:  1.8967992159036495\n",
            "Standard deviation:  0.14706262638355405\n",
            "Mask weight percentage:  26.93659591085527 %\n",
            "\n",
            "Average mask weight:  775.702447004625\n",
            "Standard deviation:  766.2872924881649\n",
            "Average total weight:  2498.6855127747517\n",
            "Standard deviation:  2147.301\n",
            "Average computing time:  1.7807222833727856\n",
            "Standard deviation:  0.7396168964340025\n",
            "Mask weight percentage:  31.044420878048772 %\n",
            "\n"
          ]
        }
      ],
      "source": [
        "map_weights = []\n",
        "mask_weights = []\n",
        "durations = []\n",
        "all_classes = [pizza, salsa]\n",
        "for c in all_classes:\n",
        "\n",
        "  for name, dir in c:\n",
        "    #print('Evaluating ', name, dir)\n",
        "    heatmap, _, mask, _ , duration = create_scoreCAM(name, dir)\n",
        "    map_w, mask_w, dur = evaluate_maps(heatmap, mask, duration)\n",
        "    map_weights.extend(map_w)\n",
        "    mask_weights.extend(mask_w)\n",
        "    durations.extend(dur)\n",
        "    #print('Done\\n')\n",
        "\n",
        "print('Average mask weight: ',sum(mask_weights)/len(mask_weights))\n",
        "print('Standard deviation: ', np.std(mask_weights))\n",
        "print('Average total weight: ', sum(map_weights)/len(map_weights))\n",
        "print('Standard deviation: ', np.std(map_weights))\n",
        "print('Average computing time: ', sum(durations)/len(durations))\n",
        "print('Standard deviation: ', np.std(durations))\n",
        "\n",
        "print('Mask weight percentage: ',((sum(mask_weights)/len(mask_weights))/(sum(map_weights)/len(mask_weights)))*100,'%\\n')\n",
        "if not os.path.exists('/content/gdrive/MyDrive/ResNet50'):\n",
        "  os.mkdir('/content/gdrive/MyDrive/ResNet50')\n",
        "!cp -R /faster_scoreCAM /content/gdrive/MyDrive/ResNet50/\n",
        "\n",
        "map_weights = []\n",
        "mask_weights = []\n",
        "durations = []\n",
        "all_classes = [pizza]\n",
        "for c in all_classes:\n",
        "\n",
        "  for name, dir in c:\n",
        "    #print('Evaluating ', name, dir)\n",
        "    heatmap, _, mask, _ , duration = create_scoreCAM(name, dir)\n",
        "    map_w, mask_w, dur = evaluate_maps(heatmap, mask, duration)\n",
        "    map_weights.extend(map_w)\n",
        "    mask_weights.extend(mask_w)\n",
        "    durations.extend(dur)\n",
        "    #print('Done\\n')\n",
        "\n",
        "print('Average mask weight: ',sum(mask_weights)/len(mask_weights))\n",
        "print('Standard deviation: ', np.std(mask_weights))\n",
        "print('Average total weight: ', sum(map_weights)/len(map_weights))\n",
        "print('Standard deviation: ', np.std(map_weights))\n",
        "print('Average computing time: ', sum(durations)/len(durations))\n",
        "print('Standard deviation: ', np.std(durations))\n",
        "\n",
        "print('Mask weight percentage: ',((sum(mask_weights)/len(mask_weights))/(sum(map_weights)/len(mask_weights)))*100,'%\\n')\n",
        "\n",
        "map_weights = []\n",
        "mask_weights = []\n",
        "durations = []\n",
        "all_classes = [salsa]\n",
        "for c in all_classes:\n",
        "\n",
        "  for name, dir in c:\n",
        "    #print('Evaluating ', name, dir)\n",
        "    heatmap, _, mask, _ , duration = create_scoreCAM(name, dir)\n",
        "    map_w, mask_w, dur = evaluate_maps(heatmap, mask, duration)\n",
        "    map_weights.extend(map_w)\n",
        "    mask_weights.extend(mask_w)\n",
        "    durations.extend(dur)\n",
        "    #print('Done\\n')\n",
        "\n",
        "print('Average mask weight: ',sum(mask_weights)/len(mask_weights))\n",
        "print('Standard deviation: ', np.std(mask_weights))\n",
        "print('Average total weight: ', sum(map_weights)/len(map_weights))\n",
        "print('Standard deviation: ', np.std(map_weights))\n",
        "print('Average computing time: ', sum(durations)/len(durations))\n",
        "print('Standard deviation: ', np.std(durations))\n",
        "\n",
        "print('Mask weight percentage: ',((sum(mask_weights)/len(mask_weights))/(sum(map_weights)/len(mask_weights)))*100,'%\\n')\n",
        "\n",
        "\n",
        "map_weights = []\n",
        "mask_weights = []\n",
        "durations = []\n",
        "all_classes = [pushups]\n",
        "for c in all_classes:\n",
        "\n",
        "  for name, dir in c:\n",
        "    #print('Evaluating ', name, dir)\n",
        "    heatmap, _, mask, _ , duration = create_scoreCAM(name, dir, check_preds = True)\n",
        "    map_w, mask_w, dur = evaluate_maps(heatmap, mask, duration)\n",
        "    map_weights.extend(map_w)\n",
        "    mask_weights.extend(mask_w)\n",
        "    durations.extend(dur)\n",
        "    #print('Done\\n')\n",
        "\n",
        "print('Average mask weight: ',sum(mask_weights)/len(mask_weights))\n",
        "print('Standard deviation: ', np.std(mask_weights))\n",
        "print('Average total weight: ', sum(map_weights)/len(map_weights))\n",
        "print('Standard deviation: ', np.std(map_weights))\n",
        "print('Average computing time: ', sum(durations)/len(durations))\n",
        "print('Standard deviation: ', np.std(durations))\n",
        "\n",
        "print('Mask weight percentage: ',((sum(mask_weights)/len(mask_weights))/(sum(map_weights)/len(mask_weights)))*100,'%\\n')\n",
        "if not os.path.exists('/content/gdrive/MyDrive/ResNet50/PushUps'):\n",
        "  os.mkdir('/content/gdrive/MyDrive/ResNet50/PushUps')\n",
        "!cp -R /faster_scoreCAM /content/gdrive/MyDrive/ResNet50/PushUps/\n",
        "\n",
        "map_weights = []\n",
        "mask_weights = []\n",
        "durations = []\n",
        "all_classes = [guitar]\n",
        "for c in all_classes:\n",
        "\n",
        "  for name, dir in c:\n",
        "    #print('Evaluating ', name, dir)\n",
        "    heatmap, _, mask, _ , duration = create_scoreCAM(name, dir, check_preds=True)\n",
        "    map_w, mask_w, dur = evaluate_maps(heatmap, mask, duration)\n",
        "    map_weights.extend(map_w)\n",
        "    mask_weights.extend(mask_w)\n",
        "    durations.extend(dur)\n",
        "    #print('Done\\n')\n",
        "\n",
        "print('Average mask weight: ',sum(mask_weights)/len(mask_weights))\n",
        "print('Standard deviation: ', np.std(mask_weights))\n",
        "print('Average total weight: ', sum(map_weights)/len(map_weights))\n",
        "print('Standard deviation: ', np.std(map_weights))\n",
        "print('Average computing time: ', sum(durations)/len(durations))\n",
        "print('Standard deviation: ', np.std(durations))\n",
        "\n",
        "print('Mask weight percentage: ',((sum(mask_weights)/len(mask_weights))/(sum(map_weights)/len(mask_weights)))*100,'%\\n')\n",
        "if not os.path.exists('/content/gdrive/MyDrive/ResNet50/PlayingGuitar'):\n",
        "  os.mkdir('/content/gdrive/MyDrive/ResNet50/PlayingGuitar')\n",
        "!cp -R /faster_scoreCAM /content/gdrive/MyDrive/ResNet50/PlayingGuitar/\n",
        "\n",
        "\n",
        "map_weights = []\n",
        "mask_weights = []\n",
        "durations = []\n",
        "all_classes = [pizza]\n",
        "for c in all_classes:\n",
        "\n",
        "  for name, dir in c:\n",
        "    #print('Evaluating ', name, dir)\n",
        "    heatmap, _, mask, _ , duration = create_scoreCAM(name, dir, check_preds=True)\n",
        "    map_w, mask_w, dur = evaluate_maps(heatmap, mask, duration)\n",
        "    map_weights.extend(map_w)\n",
        "    mask_weights.extend(mask_w)\n",
        "    durations.extend(dur)\n",
        "    #print('Done\\n')\n",
        "\n",
        "print('Average mask weight: ',sum(mask_weights)/len(mask_weights))\n",
        "print('Standard deviation: ', np.std(mask_weights))\n",
        "print('Average total weight: ', sum(map_weights)/len(map_weights))\n",
        "print('Standard deviation: ', np.std(map_weights))\n",
        "print('Average computing time: ', sum(durations)/len(durations))\n",
        "print('Standard deviation: ', np.std(durations))\n",
        "\n",
        "print('Mask weight percentage: ',((sum(mask_weights)/len(mask_weights))/(sum(map_weights)/len(mask_weights)))*100,'%\\n')\n",
        "if not os.path.exists('/content/gdrive/MyDrive/ResNet50/PizzaTossing'):\n",
        "  os.mkdir('/content/gdrive/MyDrive/ResNet50/PizzaTossing')\n",
        "!cp -R /faster_scoreCAM /content/gdrive/MyDrive/ResNet50/PizzaTossing/\n",
        "\n",
        "\n",
        "map_weights = []\n",
        "mask_weights = []\n",
        "durations = []\n",
        "all_classes = [salsa]\n",
        "for c in all_classes:\n",
        "\n",
        "  for name, dir in c:\n",
        "    #print('Evaluating ', name, dir)\n",
        "    heatmap, _, mask, _ , duration = create_scoreCAM(name, dir, check_preds=True)\n",
        "    map_w, mask_w, dur = evaluate_maps(heatmap, mask, duration)\n",
        "    map_weights.extend(map_w)\n",
        "    mask_weights.extend(mask_w)\n",
        "    durations.extend(dur)\n",
        "    #print('Done\\n')\n",
        "\n",
        "print('Average mask weight: ',sum(mask_weights)/len(mask_weights))\n",
        "print('Standard deviation: ', np.std(mask_weights))\n",
        "print('Average total weight: ', sum(map_weights)/len(map_weights))\n",
        "print('Standard deviation: ', np.std(map_weights))\n",
        "print('Average computing time: ', sum(durations)/len(durations))\n",
        "print('Standard deviation: ', np.std(durations))\n",
        "\n",
        "print('Mask weight percentage: ',((sum(mask_weights)/len(mask_weights))/(sum(map_weights)/len(mask_weights)))*100,'%\\n')\n",
        "if not os.path.exists('/content/gdrive/MyDrive/ResNet50/SalsaSpin'):\n",
        "  os.mkdir('/content/gdrive/MyDrive/ResNet50/SalsaSpin')\n",
        "!cp -R /faster_scoreCAM /content/gdrive/MyDrive/ResNet50/SalsaSpin/\n",
        "\n",
        "\n",
        "map_weights = []\n",
        "mask_weights = []\n",
        "durations = []\n",
        "all_classes = [pizza, salsa, guitar, pushups]\n",
        "for c in all_classes:\n",
        "\n",
        "  for name, dir in c:\n",
        "    #print('Evaluating ', name, dir)\n",
        "    heatmap, _, mask, _ , duration = create_scoreCAM(name, dir, check_preds=True)\n",
        "    map_w, mask_w, dur = evaluate_maps(heatmap, mask, duration)\n",
        "    map_weights.extend(map_w)\n",
        "    mask_weights.extend(mask_w)\n",
        "    durations.extend(dur)\n",
        "    #print('Done\\n')\n",
        "\n",
        "print('Average mask weight: ',sum(mask_weights)/len(mask_weights))\n",
        "print('Standard deviation: ', np.std(mask_weights))\n",
        "print('Average total weight: ', sum(map_weights)/len(map_weights))\n",
        "print('Standard deviation: ', np.std(map_weights))\n",
        "print('Average computing time: ', sum(durations)/len(durations))\n",
        "print('Standard deviation: ', np.std(durations))\n",
        "\n",
        "print('Mask weight percentage: ',((sum(mask_weights)/len(mask_weights))/(sum(map_weights)/len(mask_weights)))*100,'%\\n')\n"
      ]
    }
  ]
}